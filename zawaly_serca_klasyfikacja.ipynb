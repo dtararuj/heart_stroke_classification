{
 "cells": [
  {
   "cell_type": "code",
   "execution_count": 1,
   "metadata": {},
   "outputs": [],
   "source": [
    "import pandas as pd\n",
    "import numpy as np\n",
    "import matplotlib.pyplot as plt\n",
    "from sklearn.linear_model import  LogisticRegression\n",
    "from sklearn.ensemble import RandomForestClassifier, RandomForestRegressor\n",
    "from sklearn.tree import DecisionTreeClassifier, DecisionTreeRegressor, plot_tree\n",
    "from sklearn.model_selection import GridSearchCV, StratifiedKFold, KFold\n",
    "from sklearn.model_selection import RandomizedSearchCV\n",
    "from sklearn.metrics import *\n",
    "from sklearn.model_selection import train_test_split, cross_val_score\n",
    "from mlxtend import plotting\n",
    "from sklearn.impute import SimpleImputer\n",
    "\n",
    "from sklearn.preprocessing import StandardScaler, LabelEncoder\n",
    "from sklearn.decomposition import PCA\n",
    "\n",
    "import statsmodels.api as sm\n",
    "\n",
    "from hyperopt import hp, fmin, tpe, STATUS_OK, Trials, space_eval\n",
    "from hyperopt.pyll.base import scope\n",
    "from hyperopt.pyll.stochastic import sample\n",
    "from xgboost import XGBClassifier\n"
   ]
  },
  {
   "cell_type": "markdown",
   "metadata": {},
   "source": [
    "**1. Poznanie danych ze zbioru healtcare, odnosnie ataków serca**"
   ]
  },
  {
   "cell_type": "code",
   "execution_count": 2,
   "metadata": {},
   "outputs": [
    {
     "data": {
      "text/html": [
       "<div>\n",
       "<style scoped>\n",
       "    .dataframe tbody tr th:only-of-type {\n",
       "        vertical-align: middle;\n",
       "    }\n",
       "\n",
       "    .dataframe tbody tr th {\n",
       "        vertical-align: top;\n",
       "    }\n",
       "\n",
       "    .dataframe thead th {\n",
       "        text-align: right;\n",
       "    }\n",
       "</style>\n",
       "<table border=\"1\" class=\"dataframe\">\n",
       "  <thead>\n",
       "    <tr style=\"text-align: right;\">\n",
       "      <th></th>\n",
       "      <th>id</th>\n",
       "      <th>gender</th>\n",
       "      <th>age</th>\n",
       "      <th>hypertension</th>\n",
       "      <th>heart_disease</th>\n",
       "      <th>ever_married</th>\n",
       "      <th>work_type</th>\n",
       "      <th>Residence_type</th>\n",
       "      <th>avg_glucose_level</th>\n",
       "      <th>bmi</th>\n",
       "      <th>smoking_status</th>\n",
       "      <th>stroke</th>\n",
       "    </tr>\n",
       "  </thead>\n",
       "  <tbody>\n",
       "    <tr>\n",
       "      <th>0</th>\n",
       "      <td>9046</td>\n",
       "      <td>Male</td>\n",
       "      <td>67.0</td>\n",
       "      <td>0</td>\n",
       "      <td>1</td>\n",
       "      <td>Yes</td>\n",
       "      <td>Private</td>\n",
       "      <td>Urban</td>\n",
       "      <td>228.69</td>\n",
       "      <td>36.6</td>\n",
       "      <td>formerly smoked</td>\n",
       "      <td>1</td>\n",
       "    </tr>\n",
       "    <tr>\n",
       "      <th>1</th>\n",
       "      <td>51676</td>\n",
       "      <td>Female</td>\n",
       "      <td>61.0</td>\n",
       "      <td>0</td>\n",
       "      <td>0</td>\n",
       "      <td>Yes</td>\n",
       "      <td>Self-employed</td>\n",
       "      <td>Rural</td>\n",
       "      <td>202.21</td>\n",
       "      <td>NaN</td>\n",
       "      <td>never smoked</td>\n",
       "      <td>1</td>\n",
       "    </tr>\n",
       "    <tr>\n",
       "      <th>2</th>\n",
       "      <td>31112</td>\n",
       "      <td>Male</td>\n",
       "      <td>80.0</td>\n",
       "      <td>0</td>\n",
       "      <td>1</td>\n",
       "      <td>Yes</td>\n",
       "      <td>Private</td>\n",
       "      <td>Rural</td>\n",
       "      <td>105.92</td>\n",
       "      <td>32.5</td>\n",
       "      <td>never smoked</td>\n",
       "      <td>1</td>\n",
       "    </tr>\n",
       "    <tr>\n",
       "      <th>3</th>\n",
       "      <td>60182</td>\n",
       "      <td>Female</td>\n",
       "      <td>49.0</td>\n",
       "      <td>0</td>\n",
       "      <td>0</td>\n",
       "      <td>Yes</td>\n",
       "      <td>Private</td>\n",
       "      <td>Urban</td>\n",
       "      <td>171.23</td>\n",
       "      <td>34.4</td>\n",
       "      <td>smokes</td>\n",
       "      <td>1</td>\n",
       "    </tr>\n",
       "    <tr>\n",
       "      <th>4</th>\n",
       "      <td>1665</td>\n",
       "      <td>Female</td>\n",
       "      <td>79.0</td>\n",
       "      <td>1</td>\n",
       "      <td>0</td>\n",
       "      <td>Yes</td>\n",
       "      <td>Self-employed</td>\n",
       "      <td>Rural</td>\n",
       "      <td>174.12</td>\n",
       "      <td>24.0</td>\n",
       "      <td>never smoked</td>\n",
       "      <td>1</td>\n",
       "    </tr>\n",
       "    <tr>\n",
       "      <th>...</th>\n",
       "      <td>...</td>\n",
       "      <td>...</td>\n",
       "      <td>...</td>\n",
       "      <td>...</td>\n",
       "      <td>...</td>\n",
       "      <td>...</td>\n",
       "      <td>...</td>\n",
       "      <td>...</td>\n",
       "      <td>...</td>\n",
       "      <td>...</td>\n",
       "      <td>...</td>\n",
       "      <td>...</td>\n",
       "    </tr>\n",
       "    <tr>\n",
       "      <th>5105</th>\n",
       "      <td>18234</td>\n",
       "      <td>Female</td>\n",
       "      <td>80.0</td>\n",
       "      <td>1</td>\n",
       "      <td>0</td>\n",
       "      <td>Yes</td>\n",
       "      <td>Private</td>\n",
       "      <td>Urban</td>\n",
       "      <td>83.75</td>\n",
       "      <td>NaN</td>\n",
       "      <td>never smoked</td>\n",
       "      <td>0</td>\n",
       "    </tr>\n",
       "    <tr>\n",
       "      <th>5106</th>\n",
       "      <td>44873</td>\n",
       "      <td>Female</td>\n",
       "      <td>81.0</td>\n",
       "      <td>0</td>\n",
       "      <td>0</td>\n",
       "      <td>Yes</td>\n",
       "      <td>Self-employed</td>\n",
       "      <td>Urban</td>\n",
       "      <td>125.20</td>\n",
       "      <td>40.0</td>\n",
       "      <td>never smoked</td>\n",
       "      <td>0</td>\n",
       "    </tr>\n",
       "    <tr>\n",
       "      <th>5107</th>\n",
       "      <td>19723</td>\n",
       "      <td>Female</td>\n",
       "      <td>35.0</td>\n",
       "      <td>0</td>\n",
       "      <td>0</td>\n",
       "      <td>Yes</td>\n",
       "      <td>Self-employed</td>\n",
       "      <td>Rural</td>\n",
       "      <td>82.99</td>\n",
       "      <td>30.6</td>\n",
       "      <td>never smoked</td>\n",
       "      <td>0</td>\n",
       "    </tr>\n",
       "    <tr>\n",
       "      <th>5108</th>\n",
       "      <td>37544</td>\n",
       "      <td>Male</td>\n",
       "      <td>51.0</td>\n",
       "      <td>0</td>\n",
       "      <td>0</td>\n",
       "      <td>Yes</td>\n",
       "      <td>Private</td>\n",
       "      <td>Rural</td>\n",
       "      <td>166.29</td>\n",
       "      <td>25.6</td>\n",
       "      <td>formerly smoked</td>\n",
       "      <td>0</td>\n",
       "    </tr>\n",
       "    <tr>\n",
       "      <th>5109</th>\n",
       "      <td>44679</td>\n",
       "      <td>Female</td>\n",
       "      <td>44.0</td>\n",
       "      <td>0</td>\n",
       "      <td>0</td>\n",
       "      <td>Yes</td>\n",
       "      <td>Govt_job</td>\n",
       "      <td>Urban</td>\n",
       "      <td>85.28</td>\n",
       "      <td>26.2</td>\n",
       "      <td>Unknown</td>\n",
       "      <td>0</td>\n",
       "    </tr>\n",
       "  </tbody>\n",
       "</table>\n",
       "<p>5110 rows × 12 columns</p>\n",
       "</div>"
      ],
      "text/plain": [
       "         id  gender   age  hypertension  heart_disease ever_married  \\\n",
       "0      9046    Male  67.0             0              1          Yes   \n",
       "1     51676  Female  61.0             0              0          Yes   \n",
       "2     31112    Male  80.0             0              1          Yes   \n",
       "3     60182  Female  49.0             0              0          Yes   \n",
       "4      1665  Female  79.0             1              0          Yes   \n",
       "...     ...     ...   ...           ...            ...          ...   \n",
       "5105  18234  Female  80.0             1              0          Yes   \n",
       "5106  44873  Female  81.0             0              0          Yes   \n",
       "5107  19723  Female  35.0             0              0          Yes   \n",
       "5108  37544    Male  51.0             0              0          Yes   \n",
       "5109  44679  Female  44.0             0              0          Yes   \n",
       "\n",
       "          work_type Residence_type  avg_glucose_level   bmi   smoking_status  \\\n",
       "0           Private          Urban             228.69  36.6  formerly smoked   \n",
       "1     Self-employed          Rural             202.21   NaN     never smoked   \n",
       "2           Private          Rural             105.92  32.5     never smoked   \n",
       "3           Private          Urban             171.23  34.4           smokes   \n",
       "4     Self-employed          Rural             174.12  24.0     never smoked   \n",
       "...             ...            ...                ...   ...              ...   \n",
       "5105        Private          Urban              83.75   NaN     never smoked   \n",
       "5106  Self-employed          Urban             125.20  40.0     never smoked   \n",
       "5107  Self-employed          Rural              82.99  30.6     never smoked   \n",
       "5108        Private          Rural             166.29  25.6  formerly smoked   \n",
       "5109       Govt_job          Urban              85.28  26.2          Unknown   \n",
       "\n",
       "      stroke  \n",
       "0          1  \n",
       "1          1  \n",
       "2          1  \n",
       "3          1  \n",
       "4          1  \n",
       "...      ...  \n",
       "5105       0  \n",
       "5106       0  \n",
       "5107       0  \n",
       "5108       0  \n",
       "5109       0  \n",
       "\n",
       "[5110 rows x 12 columns]"
      ]
     },
     "execution_count": 2,
     "metadata": {},
     "output_type": "execute_result"
    }
   ],
   "source": [
    "#ładowanie datasetu o zawałach serca\n",
    "df=pd.read_csv(\"healthcare-dataset-stroke-data.csv\")\n",
    "df"
   ]
  },
  {
   "cell_type": "code",
   "execution_count": 3,
   "metadata": {},
   "outputs": [],
   "source": [
    "#usuniecie kolumny ID\n",
    "del df[\"id\"]"
   ]
  },
  {
   "cell_type": "code",
   "execution_count": 6,
   "metadata": {},
   "outputs": [
    {
     "name": "stdout",
     "output_type": "stream",
     "text": [
      "<class 'pandas.core.frame.DataFrame'>\n",
      "RangeIndex: 5110 entries, 0 to 5109\n",
      "Data columns (total 11 columns):\n",
      " #   Column             Non-Null Count  Dtype  \n",
      "---  ------             --------------  -----  \n",
      " 0   gender             5110 non-null   object \n",
      " 1   age                5110 non-null   float64\n",
      " 2   hypertension       5110 non-null   int64  \n",
      " 3   heart_disease      5110 non-null   int64  \n",
      " 4   ever_married       5110 non-null   object \n",
      " 5   work_type          5110 non-null   object \n",
      " 6   Residence_type     5110 non-null   object \n",
      " 7   avg_glucose_level  5110 non-null   float64\n",
      " 8   bmi                4909 non-null   float64\n",
      " 9   smoking_status     5110 non-null   object \n",
      " 10  stroke             5110 non-null   int64  \n",
      "dtypes: float64(3), int64(3), object(5)\n",
      "memory usage: 439.3+ KB\n"
     ]
    }
   ],
   "source": [
    "#sprawdzamy typy zmiennych\n",
    "df.info()"
   ]
  },
  {
   "cell_type": "code",
   "execution_count": 7,
   "metadata": {},
   "outputs": [
    {
     "data": {
      "text/plain": [
       "gender                 0\n",
       "age                    0\n",
       "hypertension           0\n",
       "heart_disease          0\n",
       "ever_married           0\n",
       "work_type              0\n",
       "Residence_type         0\n",
       "avg_glucose_level      0\n",
       "bmi                  201\n",
       "smoking_status         0\n",
       "stroke                 0\n",
       "dtype: int64"
      ]
     },
     "execution_count": 7,
     "metadata": {},
     "output_type": "execute_result"
    }
   ],
   "source": [
    "#sprawdzamy ile jest NA\n",
    "df.isna().sum()"
   ]
  },
  {
   "cell_type": "code",
   "execution_count": 4,
   "metadata": {},
   "outputs": [],
   "source": [
    "#zamienimy na w kolumnie BMI, przy wykorzystaniu SimpleImputer z pakietu sklearn\n",
    "imputer = SimpleImputer()\n",
    "\n",
    "pom1 = df[\"bmi\"].to_frame()\n",
    "df[\"bmi\"]=imputer.fit_transform(pom1)"
   ]
  },
  {
   "cell_type": "code",
   "execution_count": 5,
   "metadata": {},
   "outputs": [
    {
     "data": {
      "text/html": [
       "<div>\n",
       "<style scoped>\n",
       "    .dataframe tbody tr th:only-of-type {\n",
       "        vertical-align: middle;\n",
       "    }\n",
       "\n",
       "    .dataframe tbody tr th {\n",
       "        vertical-align: top;\n",
       "    }\n",
       "\n",
       "    .dataframe thead th {\n",
       "        text-align: right;\n",
       "    }\n",
       "</style>\n",
       "<table border=\"1\" class=\"dataframe\">\n",
       "  <thead>\n",
       "    <tr style=\"text-align: right;\">\n",
       "      <th></th>\n",
       "      <th>age</th>\n",
       "      <th>hypertension</th>\n",
       "      <th>heart_disease</th>\n",
       "      <th>avg_glucose_level</th>\n",
       "      <th>bmi</th>\n",
       "      <th>stroke</th>\n",
       "    </tr>\n",
       "  </thead>\n",
       "  <tbody>\n",
       "    <tr>\n",
       "      <th>count</th>\n",
       "      <td>5110.000000</td>\n",
       "      <td>5110.000000</td>\n",
       "      <td>5110.000000</td>\n",
       "      <td>5110.000000</td>\n",
       "      <td>5110.000000</td>\n",
       "      <td>5110.000000</td>\n",
       "    </tr>\n",
       "    <tr>\n",
       "      <th>mean</th>\n",
       "      <td>43.226614</td>\n",
       "      <td>0.097456</td>\n",
       "      <td>0.054012</td>\n",
       "      <td>106.147677</td>\n",
       "      <td>28.893237</td>\n",
       "      <td>0.048728</td>\n",
       "    </tr>\n",
       "    <tr>\n",
       "      <th>std</th>\n",
       "      <td>22.612647</td>\n",
       "      <td>0.296607</td>\n",
       "      <td>0.226063</td>\n",
       "      <td>45.283560</td>\n",
       "      <td>7.698018</td>\n",
       "      <td>0.215320</td>\n",
       "    </tr>\n",
       "    <tr>\n",
       "      <th>min</th>\n",
       "      <td>0.080000</td>\n",
       "      <td>0.000000</td>\n",
       "      <td>0.000000</td>\n",
       "      <td>55.120000</td>\n",
       "      <td>10.300000</td>\n",
       "      <td>0.000000</td>\n",
       "    </tr>\n",
       "    <tr>\n",
       "      <th>25%</th>\n",
       "      <td>25.000000</td>\n",
       "      <td>0.000000</td>\n",
       "      <td>0.000000</td>\n",
       "      <td>77.245000</td>\n",
       "      <td>23.800000</td>\n",
       "      <td>0.000000</td>\n",
       "    </tr>\n",
       "    <tr>\n",
       "      <th>50%</th>\n",
       "      <td>45.000000</td>\n",
       "      <td>0.000000</td>\n",
       "      <td>0.000000</td>\n",
       "      <td>91.885000</td>\n",
       "      <td>28.400000</td>\n",
       "      <td>0.000000</td>\n",
       "    </tr>\n",
       "    <tr>\n",
       "      <th>75%</th>\n",
       "      <td>61.000000</td>\n",
       "      <td>0.000000</td>\n",
       "      <td>0.000000</td>\n",
       "      <td>114.090000</td>\n",
       "      <td>32.800000</td>\n",
       "      <td>0.000000</td>\n",
       "    </tr>\n",
       "    <tr>\n",
       "      <th>max</th>\n",
       "      <td>82.000000</td>\n",
       "      <td>1.000000</td>\n",
       "      <td>1.000000</td>\n",
       "      <td>271.740000</td>\n",
       "      <td>97.600000</td>\n",
       "      <td>1.000000</td>\n",
       "    </tr>\n",
       "  </tbody>\n",
       "</table>\n",
       "</div>"
      ],
      "text/plain": [
       "               age  hypertension  heart_disease  avg_glucose_level  \\\n",
       "count  5110.000000   5110.000000    5110.000000        5110.000000   \n",
       "mean     43.226614      0.097456       0.054012         106.147677   \n",
       "std      22.612647      0.296607       0.226063          45.283560   \n",
       "min       0.080000      0.000000       0.000000          55.120000   \n",
       "25%      25.000000      0.000000       0.000000          77.245000   \n",
       "50%      45.000000      0.000000       0.000000          91.885000   \n",
       "75%      61.000000      0.000000       0.000000         114.090000   \n",
       "max      82.000000      1.000000       1.000000         271.740000   \n",
       "\n",
       "               bmi       stroke  \n",
       "count  5110.000000  5110.000000  \n",
       "mean     28.893237     0.048728  \n",
       "std       7.698018     0.215320  \n",
       "min      10.300000     0.000000  \n",
       "25%      23.800000     0.000000  \n",
       "50%      28.400000     0.000000  \n",
       "75%      32.800000     0.000000  \n",
       "max      97.600000     1.000000  "
      ]
     },
     "execution_count": 5,
     "metadata": {},
     "output_type": "execute_result"
    }
   ],
   "source": [
    "#poznajmy trochę nasze dane:\n",
    "df[df.columns[1:]].describe()"
   ]
  },
  {
   "cell_type": "markdown",
   "metadata": {},
   "source": [
    "Jak widzimy wartosci wskaznika BMI przy zastosowaniu Imputera zaczeły nam się kształtować ponad ramy dopuszczalnych wskazników.\n",
    "Usuńmy jednak wartosci NA z tej zmiennej."
   ]
  },
  {
   "cell_type": "code",
   "execution_count": 301,
   "metadata": {},
   "outputs": [],
   "source": [
    "df=pd.read_csv(\"healthcare-dataset-stroke-data.csv\")\n",
    "del df[\"id\"]"
   ]
  },
  {
   "cell_type": "code",
   "execution_count": 302,
   "metadata": {},
   "outputs": [],
   "source": [
    "df = df[~df['bmi'].isnull()] "
   ]
  },
  {
   "cell_type": "code",
   "execution_count": 303,
   "metadata": {},
   "outputs": [
    {
     "data": {
      "image/png": "[encoded data removed]",
      "text/plain": [
       "<Figure size 432x288 with 1 Axes>"
      ]
     },
     "metadata": {
      "needs_background": "light"
     },
     "output_type": "display_data"
    }
   ],
   "source": [
    "# poznajmy inne dane\n",
    "zmienne_ciagle= df[df.columns[1:]].select_dtypes(include = [\"float64\",\"int64\"])\n",
    "zmienne_ciagle[zmienne_ciagle.columns[[1,2]]].boxplot()\n",
    "pass"
   ]
  },
  {
   "cell_type": "markdown",
   "metadata": {},
   "source": [
    "Widzimy, że zmienne hypertension i heart_disease to tak na prawdę zmienne kategoryczne"
   ]
  },
  {
   "cell_type": "code",
   "execution_count": 304,
   "metadata": {},
   "outputs": [
    {
     "data": {
      "image/png": "[encoded data removed]",
      "text/plain": [
       "<Figure size 432x288 with 1 Axes>"
      ]
     },
     "metadata": {
      "needs_background": "light"
     },
     "output_type": "display_data"
    }
   ],
   "source": [
    "zmienne_ciagle[zmienne_ciagle.columns[[0,3,4]]].boxplot()\n",
    "pass"
   ]
  },
  {
   "cell_type": "markdown",
   "metadata": {},
   "source": [
    "  W przypadku pozostałych zmiennych ciągłych, mamy duzo wartości odstających dla avg_glucose_level i BMI. \n",
    "  Jednak nie wykluczałbym ich, ponieważ często przy chorobach pacjenci charakteryzują sie wysokimi wynikami."
   ]
  },
  {
   "cell_type": "code",
   "execution_count": 22,
   "metadata": {},
   "outputs": [
    {
     "name": "stdout",
     "output_type": "stream",
     "text": [
      "plot of gender\n"
     ]
    },
    {
     "data": {
      "image/png": "[encoded data removed]",
      "text/plain": [
       "<Figure size 432x288 with 1 Axes>"
      ]
     },
     "metadata": {
      "needs_background": "light"
     },
     "output_type": "display_data"
    },
    {
     "name": "stdout",
     "output_type": "stream",
     "text": [
      "plot of ever_married\n"
     ]
    },
    {
     "data": {
      "image/png": "[encoded data removed]",
      "text/plain": [
       "<Figure size 432x288 with 1 Axes>"
      ]
     },
     "metadata": {
      "needs_background": "light"
     },
     "output_type": "display_data"
    },
    {
     "name": "stdout",
     "output_type": "stream",
     "text": [
      "plot of work_type\n"
     ]
    },
    {
     "data": {
      "image/png": "[encoded data removed]",
      "text/plain": [
       "<Figure size 432x288 with 1 Axes>"
      ]
     },
     "metadata": {
      "needs_background": "light"
     },
     "output_type": "display_data"
    },
    {
     "name": "stdout",
     "output_type": "stream",
     "text": [
      "plot of Residence_type\n"
     ]
    },
    {
     "data": {
      "image/png": "[encoded data removed]",
      "text/plain": [
       "<Figure size 432x288 with 1 Axes>"
      ]
     },
     "metadata": {
      "needs_background": "light"
     },
     "output_type": "display_data"
    },
    {
     "name": "stdout",
     "output_type": "stream",
     "text": [
      "plot of smoking_status\n"
     ]
    },
    {
     "data": {
      "image/png": "[encoded data removed]",
      "text/plain": [
       "<Figure size 432x288 with 1 Axes>"
      ]
     },
     "metadata": {
      "needs_background": "light"
     },
     "output_type": "display_data"
    },
    {
     "name": "stdout",
     "output_type": "stream",
     "text": [
      "plot of hypertension\n"
     ]
    },
    {
     "data": {
      "image/png": "[encoded data removed]",
      "text/plain": [
       "<Figure size 432x288 with 1 Axes>"
      ]
     },
     "metadata": {
      "needs_background": "light"
     },
     "output_type": "display_data"
    },
    {
     "name": "stdout",
     "output_type": "stream",
     "text": [
      "plot of heart_disease\n"
     ]
    },
    {
     "data": {
      "image/png": "[encoded data removed]",
      "text/plain": [
       "<Figure size 432x288 with 1 Axes>"
      ]
     },
     "metadata": {
      "needs_background": "light"
     },
     "output_type": "display_data"
    }
   ],
   "source": [
    "zmienne_kategoryczne = df.select_dtypes(include = \"object\").join(zmienne_ciagle[zmienne_ciagle.columns[[1,2]]])\n",
    "for i in zmienne_kategoryczne.columns:\n",
    "    plt.hist(df[i])\n",
    "    print(\"plot of\", i)\n",
    "    plt.show()"
   ]
  },
  {
   "cell_type": "code",
   "execution_count": 24,
   "metadata": {
    "scrolled": true
   },
   "outputs": [
    {
     "name": "stdout",
     "output_type": "stream",
     "text": [
      "Struktura zmiennej gender \n",
      "Female    0.590141\n",
      "Male      0.409656\n",
      "Other     0.000204\n",
      "Name: gender, dtype: float64 \n",
      "\n",
      "Struktura zmiennej ever_married \n",
      "Yes    0.652679\n",
      "No     0.347321\n",
      "Name: ever_married, dtype: float64 \n",
      "\n",
      "Struktura zmiennej work_type \n",
      "Private          0.572622\n",
      "Self-employed    0.157873\n",
      "children         0.136688\n",
      "Govt_job         0.128336\n",
      "Never_worked     0.004482\n",
      "Name: work_type, dtype: float64 \n",
      "\n",
      "Struktura zmiennej Residence_type \n",
      "Urban    0.507232\n",
      "Rural    0.492768\n",
      "Name: Residence_type, dtype: float64 \n",
      "\n",
      "Struktura zmiennej smoking_status \n",
      "never smoked       0.377266\n",
      "Unknown            0.302098\n",
      "formerly smoked    0.170503\n",
      "smokes             0.150132\n",
      "Name: smoking_status, dtype: float64 \n",
      "\n",
      "Struktura zmiennej hypertension \n",
      "0    0.908128\n",
      "1    0.091872\n",
      "Name: hypertension, dtype: float64 \n",
      "\n",
      "Struktura zmiennej heart_disease \n",
      "0    0.950499\n",
      "1    0.049501\n",
      "Name: heart_disease, dtype: float64 \n",
      "\n"
     ]
    }
   ],
   "source": [
    "for i in zmienne_kategoryczne.columns:\n",
    "    print(f\"Struktura zmiennej {i} \\n{df[i].value_counts()/df.shape[0]} \\n\")"
   ]
  },
  {
   "cell_type": "markdown",
   "metadata": {},
   "source": [
    "Widzimy, że mamy niemal o połowe wiecej kobiet w zbiorze i niewielki odsetek osób nieokreślonych.\n",
    "Analizując zmienną ever_married możemy dostrzec, że było prawie dwa razy wiecej osób, ktore by kiedykolwiek po slubie.  \n",
    "Najwięcej obserwacji dotyczy osob z sektora prywatnego i 3x mniej, niemal po równo, osób samozatrudnionych, wychowujących dzieci czy pracujących w państwowych instytucjach. Nigdy nie pracujacy stanowią 4 promile.  \n",
    "W przypadku osób z nadciśnieniem (hypertension) mamy 90% oznaczonych jako 0 - brak i niecałe 10% cierpiących na te dolegliwosć.\n",
    "Warto zwrócić uwagę na zmienna objaśnianą, czyli heart_disease mamy tylko w 5% przypadków oznaczonych jako 1, czyli gdzie wystąpił atak serca, należy to uwzględnić przy wyznaczenia setu testowego."
   ]
  },
  {
   "cell_type": "markdown",
   "metadata": {},
   "source": [
    "**2. Wstępna obróbka danych do modelu**"
   ]
  },
  {
   "cell_type": "code",
   "execution_count": 25,
   "metadata": {},
   "outputs": [],
   "source": [
    "# zmiana kolumn kategorycznych na typ category\n",
    "for i in df.select_dtypes(include = 'object').join(df[[\"hypertension\",\"heart_disease\"]]):\n",
    "       df[i]=df[i].astype('category')"
   ]
  },
  {
   "cell_type": "code",
   "execution_count": 26,
   "metadata": {
    "scrolled": true
   },
   "outputs": [],
   "source": [
    "# wyznaczenie dummy variables\n",
    "df_dummy = pd.get_dummies(df,drop_first= True)"
   ]
  },
  {
   "cell_type": "code",
   "execution_count": 27,
   "metadata": {},
   "outputs": [],
   "source": [
    "# zdefiniujmy zbiór X i Y bez podzialu na testowy do ewentualnej cross validacji\n",
    "X = df_dummy.iloc[:,0:3].join(df_dummy.iloc[:,4:])\n",
    "Y = df_dummy[\"stroke\"]"
   ]
  },
  {
   "cell_type": "code",
   "execution_count": 28,
   "metadata": {},
   "outputs": [],
   "source": [
    "# podzielmy też na zbiór treningowy i testowy\n",
    "X_train, X_test, Y_train,Y_test = train_test_split(X,Y, test_size = 0.2)"
   ]
  },
  {
   "cell_type": "markdown",
   "metadata": {},
   "source": [
    "**3. Na początku zaczniemy od prostego modelu drzewa decyzyjnego**"
   ]
  },
  {
   "cell_type": "code",
   "execution_count": 33,
   "metadata": {},
   "outputs": [
    {
     "name": "stdout",
     "output_type": "stream",
     "text": [
      "acc train:  1.0 \n",
      " acc test:  0.9084\n"
     ]
    }
   ],
   "source": [
    "# prosty model drzewa decyzyjnego, nr1\n",
    "model_dd1 = DecisionTreeClassifier(random_state=1).fit(X_train, Y_train)\n",
    "\n",
    "Y_pred_dd1 =  model_dd1.predict(X_test)\n",
    "\n",
    "#ocena modelu na danych treningowych i testowych \n",
    "print(\"acc train: \",round(model_dd1.score(X_train, Y_train),4), \"\\n\",\n",
    "      \"acc test: \", round(model_dd1.score(X_test, Y_test),4))"
   ]
  },
  {
   "cell_type": "markdown",
   "metadata": {},
   "source": [
    "W zasadzie acc moglaby nam powiedziec, ze model jest bardzo dobry, ale pamietajmy, ze mamy niezbalansowany zbior 5:95"
   ]
  },
  {
   "cell_type": "code",
   "execution_count": 34,
   "metadata": {},
   "outputs": [
    {
     "name": "stdout",
     "output_type": "stream",
     "text": [
      "              precision    recall  f1-score   support\n",
      "\n",
      "           0       0.96      0.94      0.95       935\n",
      "           1       0.15      0.19      0.17        47\n",
      "\n",
      "    accuracy                           0.91       982\n",
      "   macro avg       0.55      0.57      0.56       982\n",
      "weighted avg       0.92      0.91      0.91       982\n",
      "\n"
     ]
    }
   ],
   "source": [
    "#obejrzyjmy jeszcze macierz pomyłek \n",
    "matrix_dd1 = confusion_matrix(Y_test, Y_pred_dd1)\n",
    "raport_dd1 = classification_report(Y_test, Y_pred_dd1)\n",
    "print(raport_dd1)"
   ]
  },
  {
   "cell_type": "markdown",
   "metadata": {},
   "source": [
    "Na podstawie macierzy błędu, widzimy, że ta metoda zapewnia nam niską precyzję dla klasy 1.   \n",
    "Model nie nadaje się do produkcji!"
   ]
  },
  {
   "cell_type": "markdown",
   "metadata": {},
   "source": [
    "**4. Spróbujmy dostroić model drzewa decyzyjnego i stworzyc kolejny model dd2**"
   ]
  },
  {
   "cell_type": "code",
   "execution_count": 35,
   "metadata": {},
   "outputs": [],
   "source": [
    "# stwórzmy najpierw zestaw parametrów do testów\n",
    "params_dd2 = {\"max_depth\": list(range(2,16,3)),\n",
    "              \"max_features\" : list(range(3,16,3)),\n",
    "              \"max_leaf_nodes\" : list(range(2,53,10))}"
   ]
  },
  {
   "cell_type": "code",
   "execution_count": 38,
   "metadata": {},
   "outputs": [
    {
     "name": "stdout",
     "output_type": "stream",
     "text": [
      "Fitting 5 folds for each of 150 candidates, totalling 750 fits\n"
     ]
    }
   ],
   "source": [
    "clf = DecisionTreeClassifier(random_state=1) \n",
    "\n",
    "#zdefiniowalem tez wlasny scoring, poniewaz acc byl identyczny dla kilkunastu zestawow parametrow\n",
    "grid_search_dd2 = GridSearchCV(clf, param_grid = params_dd2, cv = 5, verbose = 1, scoring = make_scorer(f1_score, average = \"macro\")).fit(X,Y)"
   ]
  },
  {
   "cell_type": "code",
   "execution_count": 39,
   "metadata": {},
   "outputs": [
    {
     "data": {
      "text/plain": [
       "{'max_depth': 8, 'max_features': 6, 'max_leaf_nodes': 52}"
      ]
     },
     "execution_count": 39,
     "metadata": {},
     "output_type": "execute_result"
    }
   ],
   "source": [
    "# wyswietle teraz najlepszy model\n",
    "\n",
    "grid_search_dd2.best_params_"
   ]
  },
  {
   "cell_type": "code",
   "execution_count": 42,
   "metadata": {},
   "outputs": [
    {
     "name": "stdout",
     "output_type": "stream",
     "text": [
      "acc train:  0.9684 \n",
      " acc test:  0.943\n",
      "              precision    recall  f1-score   support\n",
      "\n",
      "           0       0.96      0.99      0.97       935\n",
      "           1       0.26      0.11      0.15        47\n",
      "\n",
      "    accuracy                           0.94       982\n",
      "   macro avg       0.61      0.55      0.56       982\n",
      "weighted avg       0.92      0.94      0.93       982\n",
      "\n"
     ]
    }
   ],
   "source": [
    "# wdroze ten model dd2 i przetestuje jego wynik\n",
    "model_dd2 = DecisionTreeClassifier(max_depth=11, max_features=9, max_leaf_nodes=52,random_state=1).fit(X_train, Y_train)\n",
    "\n",
    "Y_pred_dd2 =  model_dd2.predict(X_test)\n",
    "\n",
    "#ocena modelu na danych treningowych i testowych \n",
    "print(\"acc train: \",round(model_dd2.score(X_train, Y_train),4), \"\\n\",\n",
    "      \"acc test: \", round(model_dd2.score(X_test, Y_test),4))\n",
    "\n",
    "#obejrzyjmy jeszcze macierz pomyłek \n",
    "matrix_dd2 = confusion_matrix(Y_test, Y_pred_dd2)\n",
    "raport_dd2 = classification_report(Y_test, Y_pred_dd2)\n",
    "print(raport_dd2)"
   ]
  },
  {
   "cell_type": "markdown",
   "metadata": {},
   "source": [
    "Widzimy, że dzięki zmianie parametrów modelu jesteśmy w stanie znacznie poprawić naszą acc, ale nasz model ma niską precyzje dla drugiej klasy i przez to usredniony wynik wyrazony przez F1 score jest niski. "
   ]
  },
  {
   "cell_type": "markdown",
   "metadata": {},
   "source": [
    "**5.Skonstruujmy prosty model lasów losowych**"
   ]
  },
  {
   "cell_type": "code",
   "execution_count": 45,
   "metadata": {},
   "outputs": [
    {
     "name": "stdout",
     "output_type": "stream",
     "text": [
      "acc train:  1.0 \n",
      " acc test:  0.9521\n"
     ]
    }
   ],
   "source": [
    "# prosty model drzewa decyzyjnego, nr1\n",
    "model_ll1 = RandomForestClassifier(random_state=1).fit(X_train, Y_train)\n",
    "\n",
    "Y_pred_ll1 =  model_ll1.predict(X_test)\n",
    "\n",
    "#ocena modelu na danych treningowych i testowych \n",
    "print(\"acc train: \",round(model_ll1.score(X_train, Y_train),4), \"\\n\",\n",
    "      \"acc test: \", round(model_ll1.score(X_test, Y_test),4))\n"
   ]
  },
  {
   "cell_type": "markdown",
   "metadata": {},
   "source": [
    "Już na wstępie osiągamy lepsze wyniki niż w naszym prostym modelu drzewa decyzyjnego.  \n",
    "Wynik jest zbliżony do zoptymalizowanego modelu drzewa a jego uzyskanie zabiera dużo mniej czasu."
   ]
  },
  {
   "cell_type": "code",
   "execution_count": 46,
   "metadata": {},
   "outputs": [
    {
     "name": "stdout",
     "output_type": "stream",
     "text": [
      "              precision    recall  f1-score   support\n",
      "\n",
      "           0       0.95      1.00      0.98       935\n",
      "           1       0.00      0.00      0.00        47\n",
      "\n",
      "    accuracy                           0.95       982\n",
      "   macro avg       0.48      0.50      0.49       982\n",
      "weighted avg       0.91      0.95      0.93       982\n",
      "\n"
     ]
    },
    {
     "name": "stderr",
     "output_type": "stream",
     "text": [
      "C:\\Users\\Dawid\\anaconda3\\lib\\site-packages\\sklearn\\metrics\\_classification.py:1245: UndefinedMetricWarning: Precision and F-score are ill-defined and being set to 0.0 in labels with no predicted samples. Use `zero_division` parameter to control this behavior.\n",
      "  _warn_prf(average, modifier, msg_start, len(result))\n",
      "C:\\Users\\Dawid\\anaconda3\\lib\\site-packages\\sklearn\\metrics\\_classification.py:1245: UndefinedMetricWarning: Precision and F-score are ill-defined and being set to 0.0 in labels with no predicted samples. Use `zero_division` parameter to control this behavior.\n",
      "  _warn_prf(average, modifier, msg_start, len(result))\n",
      "C:\\Users\\Dawid\\anaconda3\\lib\\site-packages\\sklearn\\metrics\\_classification.py:1245: UndefinedMetricWarning: Precision and F-score are ill-defined and being set to 0.0 in labels with no predicted samples. Use `zero_division` parameter to control this behavior.\n",
      "  _warn_prf(average, modifier, msg_start, len(result))\n"
     ]
    }
   ],
   "source": [
    "#obejrzyjmy jeszcze macierz pomyłek \n",
    "matrix_ll1 = confusion_matrix(Y_test, Y_pred_ll1)\n",
    "raport_ll1 = classification_report(Y_test, Y_pred_ll1)\n",
    "print(raport_ll1)"
   ]
  },
  {
   "cell_type": "markdown",
   "metadata": {},
   "source": [
    "Podobna sytuacja jak w poprzednim przypadku, model ma wysoką dokładność, ze względu na niezbalansowane dane. Na mniej licznej klasie uzyskuje zerowa precyzje. \n"
   ]
  },
  {
   "cell_type": "markdown",
   "metadata": {},
   "source": [
    "**6. Spróbujmy dostroić model lasów losowych i stworzyc kolejny model ll2**"
   ]
  },
  {
   "cell_type": "code",
   "execution_count": 47,
   "metadata": {},
   "outputs": [],
   "source": [
    "# stwórzmy najpierw zestaw parametrów do testów\n",
    "params_ll2 = {\"max_depth\": list(range(2,36,3)),\n",
    "              \"max_features\" : list(range(3,16,3)),\n",
    "              \"max_leaf_nodes\" : list(range(2,58,5)),\n",
    "              \"n_estimators\" : list(range(50,200,10))}\n",
    "\n",
    "r=  0   # policzymy ile jest mozliwych kombinacji parametrow\n",
    "for j in params_ll2.values():\n",
    "    s=len(j)\n",
    "    r += s"
   ]
  },
  {
   "cell_type": "code",
   "execution_count": 52,
   "metadata": {},
   "outputs": [
    {
     "data": {
      "text/plain": [
       "RandomizedSearchCV(cv=5, estimator=RandomForestClassifier(random_state=1),\n",
       "                   n_iter=15.0,\n",
       "                   param_distributions={'max_depth': [2, 5, 8, 11, 14, 17, 20,\n",
       "                                                      23, 26, 29, 32, 35],\n",
       "                                        'max_features': [3, 6, 9, 12, 15],\n",
       "                                        'max_leaf_nodes': [2, 7, 12, 17, 22, 27,\n",
       "                                                           32, 37, 42, 47, 52,\n",
       "                                                           57],\n",
       "                                        'n_estimators': [50, 60, 70, 80, 90,\n",
       "                                                         100, 110, 120, 130,\n",
       "                                                         140, 150, 160, 170,\n",
       "                                                         180, 190]},\n",
       "                   random_state=1,\n",
       "                   scoring=make_scorer(f1_score, average=macro))"
      ]
     },
     "execution_count": 52,
     "metadata": {},
     "output_type": "execute_result"
    }
   ],
   "source": [
    "# wylosujmy najlepsze kombinacje parametrów dla tego modelu.\n",
    "clf1 = RandomForestClassifier(random_state=1) \n",
    "\n",
    "random  = RandomizedSearchCV(clf1, param_distributions = params_ll2, cv = 5, n_iter = round(r/3,0), scoring = make_scorer(f1_score, average = \"macro\"), random_state = 1)\n",
    "\n",
    "random.fit(X,Y)"
   ]
  },
  {
   "cell_type": "code",
   "execution_count": 53,
   "metadata": {},
   "outputs": [
    {
     "name": "stdout",
     "output_type": "stream",
     "text": [
      "{'n_estimators': 70, 'max_leaf_nodes': 52, 'max_features': 12, 'max_depth': 17}\n",
      "{'n_estimators': 100, 'max_leaf_nodes': 2, 'max_features': 3, 'max_depth': 5}\n",
      "{'n_estimators': 180, 'max_leaf_nodes': 22, 'max_features': 12, 'max_depth': 26}\n",
      "{'n_estimators': 50, 'max_leaf_nodes': 7, 'max_features': 6, 'max_depth': 11}\n",
      "{'n_estimators': 60, 'max_leaf_nodes': 7, 'max_features': 12, 'max_depth': 17}\n",
      "{'n_estimators': 140, 'max_leaf_nodes': 47, 'max_features': 3, 'max_depth': 2}\n",
      "{'n_estimators': 150, 'max_leaf_nodes': 27, 'max_features': 12, 'max_depth': 14}\n",
      "{'n_estimators': 150, 'max_leaf_nodes': 27, 'max_features': 12, 'max_depth': 14}\n",
      "{'n_estimators': 150, 'max_leaf_nodes': 27, 'max_features': 12, 'max_depth': 14}\n",
      "{'n_estimators': 150, 'max_leaf_nodes': 27, 'max_features': 12, 'max_depth': 14}\n"
     ]
    }
   ],
   "source": [
    "# otrzymamy liste 10 najlepszych zestawow parametrow z posrod wylosowanych\n",
    "ranks_ll2 = random.cv_results_['rank_test_score']\n",
    "ranks_ll2.sort()\n",
    "n = 10\n",
    "\n",
    "for i in range(n):\n",
    "    print(random.cv_results_['params'][ranks_ll2[i]])"
   ]
  },
  {
   "cell_type": "code",
   "execution_count": 56,
   "metadata": {},
   "outputs": [],
   "source": [
    "# dodajmy do modelu wylosowane najlepsze parametry\n",
    "new_params_ll2 = {\"max_depth\": list(range(10,21,2)),\n",
    "              \"max_features\" : [10,12],\n",
    "              \"max_leaf_nodes\" : list(range(20,31,2)),\n",
    "              \"n_estimators\" : list(range(70,100,10))}"
   ]
  },
  {
   "cell_type": "code",
   "execution_count": 57,
   "metadata": {},
   "outputs": [
    {
     "name": "stdout",
     "output_type": "stream",
     "text": [
      "Fitting 5 folds for each of 216 candidates, totalling 1080 fits\n"
     ]
    }
   ],
   "source": [
    "# wybierzmy teraz najlepszy zestaw parametrow z okrojonej listy parametrow\n",
    "grid_search_ll2 = GridSearchCV(clf1, param_grid = new_params_ll2, cv = 5, verbose = 1, scoring = make_scorer(f1_score, average = \"macro\")).fit(X,Y)\n"
   ]
  },
  {
   "cell_type": "code",
   "execution_count": 58,
   "metadata": {},
   "outputs": [
    {
     "data": {
      "text/plain": [
       "{'max_depth': 10, 'max_features': 12, 'max_leaf_nodes': 24, 'n_estimators': 90}"
      ]
     },
     "execution_count": 58,
     "metadata": {},
     "output_type": "execute_result"
    }
   ],
   "source": [
    "# mamy proponowany najlepszy zestaw parametrow\n",
    "grid_search_ll2.best_params_"
   ]
  },
  {
   "cell_type": "code",
   "execution_count": 59,
   "metadata": {},
   "outputs": [
    {
     "name": "stdout",
     "output_type": "stream",
     "text": [
      "acc train:  0.959 \n",
      " acc test:  0.9521\n"
     ]
    }
   ],
   "source": [
    "# sprawdzmy jak sie sprawuje nasz model ze wskazanymi parametrami\n",
    "model_ll2 =  RandomForestClassifier(max_depth= 14, max_features = 9,max_leaf_nodes= 22, n_estimators = 70, random_state=1).fit(X_train, Y_train)\n",
    "\n",
    "Y_pred_ll2 =  model_ll2.predict(X_test)\n",
    "\n",
    "#ocena modelu na danych treningowych i testowych \n",
    "print(\"acc train: \",round(model_ll2.score(X_train, Y_train),4), \"\\n\",\n",
    "      \"acc test: \", round(model_ll2.score(X_test, Y_test),4))\n"
   ]
  },
  {
   "cell_type": "markdown",
   "metadata": {},
   "source": [
    "Nasz model uzysał najwyzsza dokładność, ze wszystkich dotychczasowych modeli, ale to jeszcze nie znaczy, że jest dokładny."
   ]
  },
  {
   "cell_type": "code",
   "execution_count": 60,
   "metadata": {},
   "outputs": [
    {
     "name": "stdout",
     "output_type": "stream",
     "text": [
      "              precision    recall  f1-score   support\n",
      "\n",
      "           0       0.95      1.00      0.98       935\n",
      "           1       0.00      0.00      0.00        47\n",
      "\n",
      "    accuracy                           0.95       982\n",
      "   macro avg       0.48      0.50      0.49       982\n",
      "weighted avg       0.91      0.95      0.93       982\n",
      "\n"
     ]
    },
    {
     "name": "stderr",
     "output_type": "stream",
     "text": [
      "C:\\Users\\Dawid\\anaconda3\\lib\\site-packages\\sklearn\\metrics\\_classification.py:1245: UndefinedMetricWarning: Precision and F-score are ill-defined and being set to 0.0 in labels with no predicted samples. Use `zero_division` parameter to control this behavior.\n",
      "  _warn_prf(average, modifier, msg_start, len(result))\n",
      "C:\\Users\\Dawid\\anaconda3\\lib\\site-packages\\sklearn\\metrics\\_classification.py:1245: UndefinedMetricWarning: Precision and F-score are ill-defined and being set to 0.0 in labels with no predicted samples. Use `zero_division` parameter to control this behavior.\n",
      "  _warn_prf(average, modifier, msg_start, len(result))\n",
      "C:\\Users\\Dawid\\anaconda3\\lib\\site-packages\\sklearn\\metrics\\_classification.py:1245: UndefinedMetricWarning: Precision and F-score are ill-defined and being set to 0.0 in labels with no predicted samples. Use `zero_division` parameter to control this behavior.\n",
      "  _warn_prf(average, modifier, msg_start, len(result))\n"
     ]
    }
   ],
   "source": [
    "#obejrzyjmy jeszcze macierz pomyłek \n",
    "matrix_ll2 = confusion_matrix(Y_test, Y_pred_ll2)\n",
    "raport_ll2 = classification_report(Y_test, Y_pred_ll2)\n",
    "print(raport_ll2)"
   ]
  },
  {
   "cell_type": "markdown",
   "metadata": {},
   "source": [
    "Niestety i ta metoda nie daje nam dobrego rozwiązania właściwe klasyfikujacego klase \"1\""
   ]
  },
  {
   "cell_type": "markdown",
   "metadata": {},
   "source": [
    "**7. Spróbujmy popracować trochę z naszym zbiorem i dostroić wagi pod niezbalansowany zbiór**"
   ]
  },
  {
   "cell_type": "code",
   "execution_count": 61,
   "metadata": {},
   "outputs": [],
   "source": [
    "#zdefiniujmy najpierw zakres wag jakie chcemy próbować w modelu\n",
    "weights = np.linspace(0.1,0.90,50)\n",
    "\n",
    "param_grid_weight = {'class_weight': [{0:x, 1:1.0-x} for x in weights]}"
   ]
  },
  {
   "cell_type": "code",
   "execution_count": 64,
   "metadata": {},
   "outputs": [
    {
     "name": "stdout",
     "output_type": "stream",
     "text": [
      "Fitting 5 folds for each of 50 candidates, totalling 250 fits\n"
     ]
    }
   ],
   "source": [
    "# wybierzmy teraz najlepszy zestaw wag dla modelu\n",
    "grid_search_ll3 = GridSearchCV(model_ll2, param_grid = param_grid_weight, cv = 5, verbose = 1, scoring = make_scorer(f1_score, average = \"macro\")).fit(X,Y)\n"
   ]
  },
  {
   "cell_type": "code",
   "execution_count": 65,
   "metadata": {},
   "outputs": [
    {
     "data": {
      "text/plain": [
       "{'class_weight': {0: 0.1326530612244898, 1: 0.8673469387755102}}"
      ]
     },
     "execution_count": 65,
     "metadata": {},
     "output_type": "execute_result"
    }
   ],
   "source": [
    "#w ten sposob uzyskalismy najlepszy model przy ponizszych wagach\n",
    "grid_search_ll3.best_params_"
   ]
  },
  {
   "cell_type": "code",
   "execution_count": 66,
   "metadata": {},
   "outputs": [
    {
     "name": "stdout",
     "output_type": "stream",
     "text": [
      "acc train:  0.9343 \n",
      " acc test:  0.9134\n"
     ]
    }
   ],
   "source": [
    "# sprawdzmy jak sie sprawuje nasz model ze wskazanymi parametrami\n",
    "model_ll3 =  RandomForestClassifier(max_depth= 14, max_features = 9,max_leaf_nodes= 22, n_estimators = 70,\n",
    "                                   class_weight= {0: 0.1163265306122449, 1: 0.883673469387755},random_state=1).fit(X_train, Y_train)\n",
    "\n",
    "Y_pred_ll3 =  model_ll3.predict(X_test)\n",
    "\n",
    "#ocena modelu na danych treningowych i testowych \n",
    "print(\"acc train: \",round(model_ll3.score(X_train, Y_train),4), \"\\n\",\n",
    "      \"acc test: \", round(model_ll3.score(X_test, Y_test),4))\n"
   ]
  },
  {
   "cell_type": "markdown",
   "metadata": {},
   "source": [
    "Dokladnosc naszego modelu mocno spadła, ale sprawdźmy czy poprawiła się inna metryka. "
   ]
  },
  {
   "cell_type": "code",
   "execution_count": 67,
   "metadata": {},
   "outputs": [
    {
     "name": "stdout",
     "output_type": "stream",
     "text": [
      "              precision    recall  f1-score   support\n",
      "\n",
      "           0       0.97      0.94      0.95       935\n",
      "           1       0.25      0.40      0.31        47\n",
      "\n",
      "    accuracy                           0.91       982\n",
      "   macro avg       0.61      0.67      0.63       982\n",
      "weighted avg       0.93      0.91      0.92       982\n",
      "\n"
     ]
    }
   ],
   "source": [
    "#obejrzyjmy jeszcze macierz pomyłek \n",
    "matrix_ll3 = confusion_matrix(Y_test, Y_pred_ll3)\n",
    "raport_ll3 = classification_report(Y_test, Y_pred_ll3)\n",
    "print(raport_ll3)"
   ]
  },
  {
   "cell_type": "markdown",
   "metadata": {},
   "source": [
    "Dzięki odpowiedniemu wyważeniu parametrów dla niezbalansowanej klasy poprawiliśmy precyzje i czulość, nie mniej jednak wskaźnik f1 dla klasy 1 jest nadal na niskim poziomie."
   ]
  },
  {
   "cell_type": "code",
   "execution_count": 68,
   "metadata": {},
   "outputs": [],
   "source": [
    "# sprobujmy przypisac ze decyzja o przypisaniu do klasy 1 jest podejmowana gdy prawdopodobienstwo wynosi >0.3, >0,4, >0.6 lub >0.8\n",
    "decyzje = pd.DataFrame( model_ll3.predict_proba(X_test)[::,1], columns= [\"a\"])\n",
    "\n",
    "lista_03 = []\n",
    "lista_04 = []\n",
    "lista_06 = []\n",
    "lista_08 = []\n",
    "for i in decyzje[\"a\"]:\n",
    "    if i >0.6:\n",
    "        lista_06.append(1)\n",
    "    else:\n",
    "        lista_06.append(0)\n",
    "    if i >0.8:\n",
    "        lista_08.append(1)\n",
    "    else:\n",
    "        lista_08.append(0)\n",
    "    if i >0.4:\n",
    "        lista_04.append(1)\n",
    "    else:\n",
    "        lista_04.append(0)\n",
    "    if i >0.3:\n",
    "        lista_03.append(1)\n",
    "    else:\n",
    "        lista_03.append(0)"
   ]
  },
  {
   "cell_type": "code",
   "execution_count": 69,
   "metadata": {},
   "outputs": [
    {
     "name": "stdout",
     "output_type": "stream",
     "text": [
      "              precision    recall  f1-score   support\n",
      "\n",
      "           0       0.96      0.99      0.97       935\n",
      "           1       0.33      0.13      0.18        47\n",
      "\n",
      "    accuracy                           0.95       982\n",
      "   macro avg       0.65      0.56      0.58       982\n",
      "weighted avg       0.93      0.95      0.93       982\n",
      "\n"
     ]
    }
   ],
   "source": [
    "# przeanalizujmy jak w tych wypadkach wyglada nasza macierz pomylek\n",
    "\n",
    "matrix_ll3_06 = confusion_matrix(Y_test, lista_06)\n",
    "raport_ll3_06 = classification_report(Y_test, lista_06)\n",
    "print(raport_ll3_06)"
   ]
  },
  {
   "cell_type": "code",
   "execution_count": 70,
   "metadata": {},
   "outputs": [
    {
     "name": "stdout",
     "output_type": "stream",
     "text": [
      "              precision    recall  f1-score   support\n",
      "\n",
      "           0       0.95      1.00      0.98       935\n",
      "           1       0.00      0.00      0.00        47\n",
      "\n",
      "    accuracy                           0.95       982\n",
      "   macro avg       0.48      0.50      0.49       982\n",
      "weighted avg       0.91      0.95      0.93       982\n",
      "\n"
     ]
    },
    {
     "name": "stderr",
     "output_type": "stream",
     "text": [
      "C:\\Users\\Dawid\\anaconda3\\lib\\site-packages\\sklearn\\metrics\\_classification.py:1245: UndefinedMetricWarning: Precision and F-score are ill-defined and being set to 0.0 in labels with no predicted samples. Use `zero_division` parameter to control this behavior.\n",
      "  _warn_prf(average, modifier, msg_start, len(result))\n",
      "C:\\Users\\Dawid\\anaconda3\\lib\\site-packages\\sklearn\\metrics\\_classification.py:1245: UndefinedMetricWarning: Precision and F-score are ill-defined and being set to 0.0 in labels with no predicted samples. Use `zero_division` parameter to control this behavior.\n",
      "  _warn_prf(average, modifier, msg_start, len(result))\n",
      "C:\\Users\\Dawid\\anaconda3\\lib\\site-packages\\sklearn\\metrics\\_classification.py:1245: UndefinedMetricWarning: Precision and F-score are ill-defined and being set to 0.0 in labels with no predicted samples. Use `zero_division` parameter to control this behavior.\n",
      "  _warn_prf(average, modifier, msg_start, len(result))\n"
     ]
    }
   ],
   "source": [
    "matrix_ll3_08 = confusion_matrix(Y_test, lista_08)\n",
    "raport_ll3_08 = classification_report(Y_test, lista_08)\n",
    "print(raport_ll3_08)"
   ]
  },
  {
   "cell_type": "code",
   "execution_count": 71,
   "metadata": {},
   "outputs": [
    {
     "name": "stdout",
     "output_type": "stream",
     "text": [
      "              precision    recall  f1-score   support\n",
      "\n",
      "           0       0.98      0.88      0.93       935\n",
      "           1       0.21      0.64      0.32        47\n",
      "\n",
      "    accuracy                           0.87       982\n",
      "   macro avg       0.60      0.76      0.62       982\n",
      "weighted avg       0.94      0.87      0.90       982\n",
      "\n"
     ]
    }
   ],
   "source": [
    "matrix_ll3_04 = confusion_matrix(Y_test, lista_04)\n",
    "raport_ll3_04 = classification_report(Y_test, lista_04)\n",
    "print(raport_ll3_04)"
   ]
  },
  {
   "cell_type": "code",
   "execution_count": 72,
   "metadata": {},
   "outputs": [
    {
     "name": "stdout",
     "output_type": "stream",
     "text": [
      "              precision    recall  f1-score   support\n",
      "\n",
      "           0       0.98      0.81      0.89       935\n",
      "           1       0.16      0.70      0.26        47\n",
      "\n",
      "    accuracy                           0.81       982\n",
      "   macro avg       0.57      0.76      0.58       982\n",
      "weighted avg       0.94      0.81      0.86       982\n",
      "\n"
     ]
    }
   ],
   "source": [
    "matrix_ll3_03 = confusion_matrix(Y_test, lista_03)\n",
    "raport_ll3_03 = classification_report(Y_test, lista_03)\n",
    "print(raport_ll3_03)"
   ]
  },
  {
   "cell_type": "markdown",
   "metadata": {},
   "source": [
    "Poprzez zmiane wartosci od ktorej przypisujemy dana prognoze do jednej z klas, nie widzimy nadal znaczacej poprawy wskaznika f1.\n",
    "Widzimy jednak, ze dzięki temu (wskaznik recall) poprawil sie i teraz jak już klasyfikujemy kogos jako chorego to z 70% dokladnoscia. Niestety klasyfikujemy tylko 16% wszystkich przypadkow."
   ]
  },
  {
   "cell_type": "markdown",
   "metadata": {},
   "source": [
    "**8. Wyprobujmy nasz najlepszy dotad model na danych przeskalowanych + PCA**"
   ]
  },
  {
   "cell_type": "code",
   "execution_count": 73,
   "metadata": {},
   "outputs": [],
   "source": [
    "#przeskalowanie danych dla calego zbioru treningowego\n",
    "scaler = StandardScaler().fit(X_train)\n",
    "X_train_scaled = scaler.transform(X_train)\n",
    "X_test_scaled = scaler.transform(X_test)\n"
   ]
  },
  {
   "cell_type": "code",
   "execution_count": 74,
   "metadata": {},
   "outputs": [
    {
     "data": {
      "text/plain": [
       "[<matplotlib.lines.Line2D at 0x3121cf40>]"
      ]
     },
     "execution_count": 74,
     "metadata": {},
     "output_type": "execute_result"
    },
    {
     "data": {
      "image/png": "[encoded data removed]",
      "text/plain": [
       "<Figure size 432x288 with 1 Axes>"
      ]
     },
     "metadata": {
      "needs_background": "light"
     },
     "output_type": "display_data"
    }
   ],
   "source": [
    "# wybranie odpowiedniej ilosci komponentow PCA\n",
    "\n",
    "## najpierw max kolumn, a potem sprawdzic ile jest nam rzeczywiscie potrzebnych \n",
    "PCA_results = PCA(n_components = 16)\n",
    "\n",
    "PCA_results.fit(X_train_scaled)\n",
    "X_train_scaled_PCA = PCA_results.transform(X_train_scaled)\n",
    "X_test_scaled_PCA = PCA_results.transform(X_test_scaled) \n",
    "\n",
    "plt.plot(PCA_results.explained_variance_ratio_)"
   ]
  },
  {
   "cell_type": "code",
   "execution_count": 75,
   "metadata": {},
   "outputs": [
    {
     "data": {
      "text/plain": [
       "array([0.18650245, 0.29209765, 0.38188196, 0.45606811, 0.52755008,\n",
       "       0.59169153, 0.65431283, 0.71500802, 0.77273208, 0.82782356,\n",
       "       0.8788745 , 0.92227164, 0.95422597, 0.97252306, 0.9891024 ,\n",
       "       1.        ])"
      ]
     },
     "execution_count": 75,
     "metadata": {},
     "output_type": "execute_result"
    }
   ],
   "source": [
    "np.cumsum(PCA_results.explained_variance_ratio_)"
   ]
  },
  {
   "cell_type": "markdown",
   "metadata": {},
   "source": [
    "Jak widzimy 10 zmiennych wyjasnia zmiennosc modelu w prawie 83%, ale skorzystajmy z 11, bo wariancja jeszcze sie calkiem mocna poprawia po dodaniu jednej zmiennej i mamy wynik 88%."
   ]
  },
  {
   "cell_type": "code",
   "execution_count": 76,
   "metadata": {},
   "outputs": [],
   "source": [
    "#ostateczna wersja PCA\n",
    "PCA_results = PCA(n_components = 11)\n",
    "\n",
    "PCA_results.fit(X_train_scaled)\n",
    "X_train_scaled_PCA = PCA_results.transform(X_train_scaled)\n",
    "X_test_scaled_PCA = PCA_results.transform(X_test_scaled) "
   ]
  },
  {
   "cell_type": "markdown",
   "metadata": {},
   "source": [
    "Sprawdzmy teraz wynik modelu na zmiennych po standaryzacji i PCA, wykorzystamy najlepszy wytrenowany dotad model ll3\n"
   ]
  },
  {
   "cell_type": "code",
   "execution_count": 77,
   "metadata": {},
   "outputs": [
    {
     "name": "stdout",
     "output_type": "stream",
     "text": [
      "acc train:  0.9562 \n",
      " acc test:  0.9338\n"
     ]
    }
   ],
   "source": [
    "# sprawdzmy jak sie sprawuje nasz model ze wskazanymi parametrami\n",
    "model_ll4 =  RandomForestClassifier(max_depth= 14, max_features = 9,max_leaf_nodes= 22, n_estimators = 70,\n",
    "                                   class_weight= {0: 0.1163265306122449, 1: 0.883673469387755}, random_state= 1).fit(X_train_scaled_PCA, Y_train)\n",
    "\n",
    "Y_pred_ll4 =  model_ll4.predict(X_test_scaled_PCA)\n",
    "\n",
    "#ocena modelu na danych treningowych i testowych \n",
    "print(\"acc train: \",round(model_ll4.score(X_train_scaled_PCA, Y_train),4), \"\\n\",\n",
    "      \"acc test: \", round(model_ll4.score(X_test_scaled_PCA, Y_test),4))\n",
    "\n"
   ]
  },
  {
   "cell_type": "code",
   "execution_count": 78,
   "metadata": {},
   "outputs": [
    {
     "name": "stdout",
     "output_type": "stream",
     "text": [
      "              precision    recall  f1-score   support\n",
      "\n",
      "           0       0.96      0.97      0.97       935\n",
      "           1       0.25      0.19      0.22        47\n",
      "\n",
      "    accuracy                           0.93       982\n",
      "   macro avg       0.60      0.58      0.59       982\n",
      "weighted avg       0.93      0.93      0.93       982\n",
      "\n"
     ]
    }
   ],
   "source": [
    "#obejrzyjmy jeszcze macierz pomyłek \n",
    "matrix_ll4 = confusion_matrix(Y_test, Y_pred_ll4)\n",
    "raport_ll4 = classification_report(Y_test, Y_pred_ll4)\n",
    "print(raport_ll4)"
   ]
  },
  {
   "cell_type": "markdown",
   "metadata": {},
   "source": [
    "Poprawila nam sie accuracy calkowita i dla klasy 0, jednak dla klasy 1 precyzja i czulosc wciaz sa niskie."
   ]
  },
  {
   "cell_type": "markdown",
   "metadata": {},
   "source": [
    "**9. Ze wzgledu na skalowanie i PCA model moze wymagac innych parametrow w takim razie poszukajmy bardziej optymalnego zestawu parametrow**"
   ]
  },
  {
   "cell_type": "code",
   "execution_count": 79,
   "metadata": {},
   "outputs": [],
   "source": [
    "# stwórzmy najpierw zestaw parametrów do testów\n",
    "params_ll5 = {\"max_depth\": list(range(2,36,3)),\n",
    "              \"max_features\" : list(range(3,12,2)),\n",
    "              \"max_leaf_nodes\" : list(range(2,58,5)),\n",
    "              \"n_estimators\" : list(range(50,200,10))}\n",
    "\n",
    "r=  0   # policzymy ile jest mozliwych kombinacji parametrow\n",
    "for j in params_ll2.values():\n",
    "    s=len(j)\n",
    "    r += s"
   ]
  },
  {
   "cell_type": "code",
   "execution_count": 80,
   "metadata": {},
   "outputs": [
    {
     "data": {
      "text/plain": [
       "RandomizedSearchCV(cv=5, estimator=RandomForestClassifier(random_state=1),\n",
       "                   n_iter=15.0,\n",
       "                   param_distributions={'max_depth': [2, 5, 8, 11, 14, 17, 20,\n",
       "                                                      23, 26, 29, 32, 35],\n",
       "                                        'max_features': [3, 5, 7, 9, 11],\n",
       "                                        'max_leaf_nodes': [2, 7, 12, 17, 22, 27,\n",
       "                                                           32, 37, 42, 47, 52,\n",
       "                                                           57],\n",
       "                                        'n_estimators': [50, 60, 70, 80, 90,\n",
       "                                                         100, 110, 120, 130,\n",
       "                                                         140, 150, 160, 170,\n",
       "                                                         180, 190]},\n",
       "                   scoring=make_scorer(f1_score, average=macro))"
      ]
     },
     "execution_count": 80,
     "metadata": {},
     "output_type": "execute_result"
    }
   ],
   "source": [
    "# wylosujmy najlepsze kombinacje parametrów dla tego modelu.\n",
    "clf5 = RandomForestClassifier(random_state=1) \n",
    "\n",
    "random  = RandomizedSearchCV(clf5, param_distributions = params_ll5, cv = 5, n_iter = round(r/3,0), scoring = make_scorer(f1_score, average = \"macro\"))\n",
    "\n",
    "random.fit(X_train_scaled_PCA, Y_train)"
   ]
  },
  {
   "cell_type": "code",
   "execution_count": 81,
   "metadata": {},
   "outputs": [
    {
     "name": "stdout",
     "output_type": "stream",
     "text": [
      "{'n_estimators': 100, 'max_leaf_nodes': 47, 'max_features': 7, 'max_depth': 2}\n",
      "{'n_estimators': 60, 'max_leaf_nodes': 52, 'max_features': 3, 'max_depth': 26}\n",
      "{'n_estimators': 160, 'max_leaf_nodes': 2, 'max_features': 11, 'max_depth': 17}\n",
      "{'n_estimators': 80, 'max_leaf_nodes': 42, 'max_features': 7, 'max_depth': 14}\n",
      "{'n_estimators': 150, 'max_leaf_nodes': 22, 'max_features': 5, 'max_depth': 8}\n",
      "{'n_estimators': 140, 'max_leaf_nodes': 32, 'max_features': 11, 'max_depth': 5}\n",
      "{'n_estimators': 170, 'max_leaf_nodes': 32, 'max_features': 5, 'max_depth': 14}\n",
      "{'n_estimators': 160, 'max_leaf_nodes': 27, 'max_features': 9, 'max_depth': 20}\n",
      "{'n_estimators': 160, 'max_leaf_nodes': 27, 'max_features': 9, 'max_depth': 20}\n",
      "{'n_estimators': 100, 'max_leaf_nodes': 22, 'max_features': 7, 'max_depth': 2}\n"
     ]
    }
   ],
   "source": [
    "# otrzymamy liste 10 najlepszych zestawow parametrow z posrod wylosowanych\n",
    "ranks_ll5 = random.cv_results_['rank_test_score']\n",
    "ranks_ll5.sort()\n",
    "n = 10\n",
    "\n",
    "for i in range(n):\n",
    "    print(random.cv_results_['params'][ranks_ll5[i]])\n"
   ]
  },
  {
   "cell_type": "markdown",
   "metadata": {},
   "source": [
    "Niestety losowane parametry nie ukazały nam zbyt wiele prawidłowości, dlatego model zostanie wytrenowany na wszystkich parametrach. "
   ]
  },
  {
   "cell_type": "code",
   "execution_count": 229,
   "metadata": {},
   "outputs": [],
   "source": [
    "# dodajmy do modelu wylosowane najlepsze parametry\n",
    "new_params_ll5 =  {\"max_depth\": list(range(2,36,3)),\n",
    "              \"max_features\" : list(range(3,12,2)),\n",
    "              \"max_leaf_nodes\" : list(range(12,58,5)),\n",
    "              \"n_estimators\" : list(range(70,180,20))}"
   ]
  },
  {
   "cell_type": "code",
   "execution_count": 230,
   "metadata": {},
   "outputs": [
    {
     "name": "stdout",
     "output_type": "stream",
     "text": [
      "Fitting 5 folds for each of 5040 candidates, totalling 25200 fits\n"
     ]
    },
    {
     "name": "stderr",
     "output_type": "stream",
     "text": [
      "[Parallel(n_jobs=1)]: Using backend SequentialBackend with 1 concurrent workers.\n",
      "[Parallel(n_jobs=1)]: Done 25200 out of 25200 | elapsed: 309.8min finished\n"
     ]
    }
   ],
   "source": [
    "# wybierzmy teraz najlepszy zestaw parametrow z okrojonej listy parametrow\n",
    "grid_search_ll5 = GridSearchCV(clf5, param_grid = new_params_ll5, cv = 5, verbose = 1, scoring = make_scorer(f1_score, average = \"macro\")).fit(X,Y)\n"
   ]
  },
  {
   "cell_type": "code",
   "execution_count": 231,
   "metadata": {},
   "outputs": [
    {
     "data": {
      "text/plain": [
       "{'max_depth': 29, 'max_features': 11, 'max_leaf_nodes': 52, 'n_estimators': 70}"
      ]
     },
     "execution_count": 231,
     "metadata": {},
     "output_type": "execute_result"
    }
   ],
   "source": [
    "# mamy proponowany najlepszy zestaw parametrow\n",
    "grid_search_ll5.best_params_"
   ]
  },
  {
   "cell_type": "code",
   "execution_count": 232,
   "metadata": {},
   "outputs": [
    {
     "name": "stdout",
     "output_type": "stream",
     "text": [
      "acc train:  0.9621 \n",
      " acc test:  0.9521\n"
     ]
    }
   ],
   "source": [
    "# sprawdzmy jak sie sprawuje nasz model ze wskazanymi parametrami\n",
    "model_ll5 =  RandomForestClassifier(max_depth= 29, max_features = 11,max_leaf_nodes= 52, n_estimators = 70, random_state=1).fit(X_train_scaled_PCA, Y_train)\n",
    "\n",
    "Y_pred_ll5 =  model_ll5.predict(X_test_scaled_PCA)\n",
    "\n",
    "#ocena modelu na danych treningowych i testowych \n",
    "print(\"acc train: \",round(model_ll5.score(X_train_scaled_PCA, Y_train),4), \"\\n\",\n",
    "      \"acc test: \", round(model_ll5.score(X_test_scaled_PCA, Y_test),4))"
   ]
  },
  {
   "cell_type": "code",
   "execution_count": 233,
   "metadata": {},
   "outputs": [
    {
     "name": "stdout",
     "output_type": "stream",
     "text": [
      "              precision    recall  f1-score   support\n",
      "\n",
      "           0       0.95      1.00      0.98       973\n",
      "           1       0.00      0.00      0.00        49\n",
      "\n",
      "    accuracy                           0.95      1022\n",
      "   macro avg       0.48      0.50      0.49      1022\n",
      "weighted avg       0.91      0.95      0.93      1022\n",
      "\n"
     ]
    },
    {
     "name": "stderr",
     "output_type": "stream",
     "text": [
      "C:\\Users\\Dawid\\anaconda3\\lib\\site-packages\\sklearn\\metrics\\_classification.py:1221: UndefinedMetricWarning: Precision and F-score are ill-defined and being set to 0.0 in labels with no predicted samples. Use `zero_division` parameter to control this behavior.\n",
      "  _warn_prf(average, modifier, msg_start, len(result))\n"
     ]
    }
   ],
   "source": [
    "#obejrzyjmy jeszcze macierz pomyłek \n",
    "matrix_ll5 = confusion_matrix(Y_test, Y_pred_ll5)\n",
    "raport_ll5 = classification_report(Y_test, Y_pred_ll5)\n",
    "print(raport_ll5)"
   ]
  },
  {
   "cell_type": "markdown",
   "metadata": {},
   "source": [
    "Niestety ponownie wynik dobry tylko dla 1 klasy, pozostalo nam jeszcze sprawdzic czy zmiana wag cos pomoze."
   ]
  },
  {
   "cell_type": "code",
   "execution_count": 235,
   "metadata": {},
   "outputs": [
    {
     "name": "stdout",
     "output_type": "stream",
     "text": [
      "Fitting 5 folds for each of 50 candidates, totalling 250 fits\n"
     ]
    },
    {
     "name": "stderr",
     "output_type": "stream",
     "text": [
      "[Parallel(n_jobs=1)]: Using backend SequentialBackend with 1 concurrent workers.\n",
      "[Parallel(n_jobs=1)]: Done 250 out of 250 | elapsed:  2.3min finished\n"
     ]
    }
   ],
   "source": [
    "# wybierzmy teraz najlepszy zestaw wag dla modelu\n",
    "grid_search_ll6 = GridSearchCV(model_ll5, param_grid = param_grid_weight, cv = 5, verbose = 1, scoring = make_scorer(f1_score, average = \"macro\")).fit(X,Y)\n"
   ]
  },
  {
   "cell_type": "code",
   "execution_count": 236,
   "metadata": {},
   "outputs": [
    {
     "data": {
      "text/plain": [
       "{'class_weight': {0: 0.1163265306122449, 1: 0.883673469387755}}"
      ]
     },
     "execution_count": 236,
     "metadata": {},
     "output_type": "execute_result"
    }
   ],
   "source": [
    "#w ten sposob uzyskalismy najlepszy model przy ponizszych wagach\n",
    "grid_search_ll6.best_params_"
   ]
  },
  {
   "cell_type": "code",
   "execution_count": 237,
   "metadata": {},
   "outputs": [
    {
     "name": "stdout",
     "output_type": "stream",
     "text": [
      "acc train:  0.9408 \n",
      " acc test:  0.9237\n"
     ]
    }
   ],
   "source": [
    "# sprawdzmy jak sie sprawuje nasz model ze wskazanymi parametrami\n",
    "model_ll6 =  RandomForestClassifier(max_depth= 14, max_features = 9,max_leaf_nodes= 22, n_estimators = 70,\n",
    "                                   class_weight= {0: 0.1163265306122449, 1: 0.883673469387755}, random_state= 1).fit(X_train_scaled_PCA, Y_train)\n",
    "\n",
    "Y_pred_ll6 =  model_ll6.predict(X_test_scaled_PCA)\n",
    "\n",
    "#ocena modelu na danych treningowych i testowych \n",
    "print(\"acc train: \",round(model_ll6.score(X_train_scaled_PCA, Y_train),4), \"\\n\",\n",
    "      \"acc test: \", round(model_ll6.score(X_test_scaled_PCA, Y_test),4))"
   ]
  },
  {
   "cell_type": "code",
   "execution_count": 238,
   "metadata": {},
   "outputs": [
    {
     "name": "stdout",
     "output_type": "stream",
     "text": [
      "              precision    recall  f1-score   support\n",
      "\n",
      "           0       0.96      0.96      0.96       973\n",
      "           1       0.19      0.18      0.19        49\n",
      "\n",
      "    accuracy                           0.92      1022\n",
      "   macro avg       0.58      0.57      0.57      1022\n",
      "weighted avg       0.92      0.92      0.92      1022\n",
      "\n"
     ]
    }
   ],
   "source": [
    "#obejrzyjmy jeszcze macierz pomyłek \n",
    "matrix_ll6 = confusion_matrix(Y_test, Y_pred_ll6)\n",
    "raport_ll6 = classification_report(Y_test, Y_pred_ll6)\n",
    "print(raport_ll6)"
   ]
  },
  {
   "cell_type": "markdown",
   "metadata": {},
   "source": [
    "Sprawdzmy jeszcze przypisanie do klasy decyzyjnej przy 0.4 i 0.6"
   ]
  },
  {
   "cell_type": "code",
   "execution_count": 241,
   "metadata": {},
   "outputs": [],
   "source": [
    "# sprobujmy przypisac ze decyzja o przypisaniu jest podejmowana gdy prawdopodobienstwo wynosi >0,4, >0.6, >0.8\n",
    "decyzje2 = pd.DataFrame( model_ll6.predict_proba(X_test_scaled_PCA)[::,1], columns= [\"a\"])\n",
    "\n",
    "lista_04_2 = []\n",
    "lista_06_2 = []\n",
    "\n",
    "for i in decyzje2[\"a\"]:\n",
    "    if i >0.6:\n",
    "        lista_06_2.append(1)\n",
    "    else:\n",
    "        lista_06_2.append(0)\n",
    "    if i >0.4:\n",
    "        lista_04_2.append(1)\n",
    "    else:\n",
    "        lista_04_2.append(0)"
   ]
  },
  {
   "cell_type": "code",
   "execution_count": 244,
   "metadata": {},
   "outputs": [
    {
     "name": "stdout",
     "output_type": "stream",
     "text": [
      "              precision    recall  f1-score   support\n",
      "\n",
      "           0       0.96      0.99      0.97       973\n",
      "           1       0.22      0.08      0.12        49\n",
      "\n",
      "    accuracy                           0.94      1022\n",
      "   macro avg       0.59      0.53      0.54      1022\n",
      "weighted avg       0.92      0.94      0.93      1022\n",
      "\n"
     ]
    }
   ],
   "source": [
    "# przeanalizujmy jak w tych wypadkach wyglada nasza macierz pomylek\n",
    "matrix_ll6_06 = confusion_matrix(Y_test, lista_06_2)\n",
    "raport_ll6_06 = classification_report(Y_test, lista_06_2)\n",
    "print(raport_ll6_06)"
   ]
  },
  {
   "cell_type": "code",
   "execution_count": 245,
   "metadata": {},
   "outputs": [
    {
     "name": "stdout",
     "output_type": "stream",
     "text": [
      "              precision    recall  f1-score   support\n",
      "\n",
      "           0       0.96      0.91      0.93       973\n",
      "           1       0.14      0.31      0.19        49\n",
      "\n",
      "    accuracy                           0.88      1022\n",
      "   macro avg       0.55      0.61      0.56      1022\n",
      "weighted avg       0.92      0.88      0.90      1022\n",
      "\n"
     ]
    }
   ],
   "source": [
    "# przeanalizujmy jak w tych wypadkach wyglada nasza macierz pomylek\n",
    "matrix_ll6_04 = confusion_matrix(Y_test, lista_04_2)\n",
    "raport_ll6_04 = classification_report(Y_test, lista_04_2)\n",
    "print(raport_ll6_04)"
   ]
  },
  {
   "cell_type": "markdown",
   "metadata": {},
   "source": [
    "**10.Jako kolejna metode walki z niezbalansowanym zbiorem wypróbujmy duplikacje sampli w klasie 1**"
   ]
  },
  {
   "cell_type": "code",
   "execution_count": 82,
   "metadata": {},
   "outputs": [],
   "source": [
    "#powiekszmy sobie nasz zbior dla klasy 1. o 2000 losowych obserwacji\n",
    "losowe_indeksy = np.random.randint(1,249, 2000)\n",
    "zbior1 = df_dummy[df_dummy.stroke == 1]\n",
    "\n",
    "duplikaty = pd.DataFrame()\n",
    "for i in losowe_indeksy:\n",
    "    zbior1 = zbior1.append(zbior1.iloc[i:i+1,])\n",
    "    \n",
    "zbior1.reset_index()\n",
    "    \n",
    "df_dummy_duplicated = df_dummy[df_dummy.stroke == 0].append(zbior1)"
   ]
  },
  {
   "cell_type": "code",
   "execution_count": 83,
   "metadata": {},
   "outputs": [],
   "source": [
    "# zdefiniujmy zbiór X i Y bez podzialu na testowy do cross validacji\n",
    "X_duplicated = df_dummy_duplicated.iloc[:,0:3].join(df_dummy.iloc[:,4:])\n",
    "Y_duplicated  = df_dummy_duplicated [\"stroke\"]"
   ]
  },
  {
   "cell_type": "code",
   "execution_count": 84,
   "metadata": {},
   "outputs": [],
   "source": [
    "# podzielmy też na zbiór treningowy i testowy\n",
    "X_train_duplicated, X_test_duplicated, Y_train_duplicated,Y_test_duplicated = train_test_split(X_duplicated,Y_duplicated, test_size = 0.2, random_state=1)"
   ]
  },
  {
   "cell_type": "markdown",
   "metadata": {},
   "source": [
    "Spróbujmy znaleźć najlepsze parametry dla nowego modelu, wykorzystamy model random forrest."
   ]
  },
  {
   "cell_type": "code",
   "execution_count": 298,
   "metadata": {},
   "outputs": [],
   "source": [
    "# stwórzmy najpierw zestaw parametrów do testów\n",
    "params_ll7 =  {\"max_depth\": list(range(2,36,3)),\n",
    "              \"max_features\" : list(range(3,12,2)),\n",
    "              \"max_leaf_nodes\" : list(range(2,58,5)),\n",
    "              \"n_estimators\" : list(range(70,200,20))}\n",
    "\n",
    "\n",
    "r=  0   # policzymy ile jest mozliwych kombinacji parametrow\n",
    "for j in params_ll2.values():\n",
    "    s=len(j)\n",
    "    r += s"
   ]
  },
  {
   "cell_type": "code",
   "execution_count": 300,
   "metadata": {},
   "outputs": [
    {
     "data": {
      "text/plain": [
       "RandomizedSearchCV(cv=5, estimator=RandomForestClassifier(), n_iter=15.0,\n",
       "                   param_distributions={'max_depth': [2, 5, 8, 11, 14, 17, 20,\n",
       "                                                      23, 26, 29, 32, 35],\n",
       "                                        'max_features': [3, 5, 7, 9, 11],\n",
       "                                        'max_leaf_nodes': [2, 7, 12, 17, 22, 27,\n",
       "                                                           32, 37, 42, 47, 52,\n",
       "                                                           57],\n",
       "                                        'n_estimators': [70, 90, 110, 130, 150,\n",
       "                                                         170, 190]},\n",
       "                   scoring=make_scorer(f1_score, average=macro))"
      ]
     },
     "execution_count": 300,
     "metadata": {},
     "output_type": "execute_result"
    }
   ],
   "source": [
    "# wylosujmy najlepsze kombinacje parametrów dla tego modelu.\n",
    "clf7 = RandomForestClassifier(random_state=1) \n",
    "\n",
    "random  = RandomizedSearchCV(clf7, param_distributions = params_ll7, cv = 5, n_iter = round(r/3,0), scoring = make_scorer(f1_score, average = \"macro\"))\n",
    "\n",
    "random.fit(X_train_duplicated, Y_train_duplicated)"
   ]
  },
  {
   "cell_type": "code",
   "execution_count": 301,
   "metadata": {},
   "outputs": [
    {
     "name": "stdout",
     "output_type": "stream",
     "text": [
      "{'n_estimators': 110, 'max_leaf_nodes': 27, 'max_features': 3, 'max_depth': 17}\n",
      "{'n_estimators': 150, 'max_leaf_nodes': 22, 'max_features': 5, 'max_depth': 2}\n",
      "{'n_estimators': 170, 'max_leaf_nodes': 2, 'max_features': 9, 'max_depth': 14}\n",
      "{'n_estimators': 70, 'max_leaf_nodes': 37, 'max_features': 3, 'max_depth': 2}\n",
      "{'n_estimators': 150, 'max_leaf_nodes': 17, 'max_features': 5, 'max_depth': 23}\n",
      "{'n_estimators': 130, 'max_leaf_nodes': 17, 'max_features': 9, 'max_depth': 20}\n",
      "{'n_estimators': 70, 'max_leaf_nodes': 27, 'max_features': 9, 'max_depth': 29}\n",
      "{'n_estimators': 170, 'max_leaf_nodes': 32, 'max_features': 11, 'max_depth': 35}\n",
      "{'n_estimators': 190, 'max_leaf_nodes': 42, 'max_features': 5, 'max_depth': 2}\n",
      "{'n_estimators': 150, 'max_leaf_nodes': 2, 'max_features': 7, 'max_depth': 20}\n"
     ]
    }
   ],
   "source": [
    "# otrzymamy liste 10 najlepszych zestawow parametrow z posrod wylosowanych\n",
    "ranks_ll7 = random.cv_results_['rank_test_score']\n",
    "ranks_ll7.sort()\n",
    "n = 10\n",
    "\n",
    "for i in range(n):\n",
    "    print(random.cv_results_['params'][ranks_ll7[i]])"
   ]
  },
  {
   "cell_type": "code",
   "execution_count": 85,
   "metadata": {},
   "outputs": [
    {
     "name": "stdout",
     "output_type": "stream",
     "text": [
      "acc train:  0.6971 \n",
      " acc test:  0.6881\n"
     ]
    }
   ],
   "source": [
    "# sprawdzmy od razu czy jest sens dalej szukac parametrow, czyli jak sie sprawuje nasz model ze wskazanymi parametrami\n",
    "model_ll7 =  RandomForestClassifier(max_depth= 20, max_features = 11,max_leaf_nodes= 27, n_estimators = 110,random_state=1).fit(X_train_duplicated, Y_train_duplicated)\n",
    "\n",
    "Y_pred_ll7 =  model_ll7.predict(X_test_duplicated)\n",
    "\n",
    "#ocena modelu na danych treningowych i testowych \n",
    "print(\"acc train: \",round(model_ll7.score(X_train_duplicated, Y_train_duplicated),4), \"\\n\",\n",
    "      \"acc test: \", round(model_ll7.score(X_test_duplicated, Y_test_duplicated),4))"
   ]
  },
  {
   "cell_type": "markdown",
   "metadata": {},
   "source": [
    "Wynik Acc bardzo niski, jak to wyglada dalej:\n"
   ]
  },
  {
   "cell_type": "code",
   "execution_count": 86,
   "metadata": {},
   "outputs": [
    {
     "name": "stdout",
     "output_type": "stream",
     "text": [
      "              precision    recall  f1-score   support\n",
      "\n",
      "           0       0.69      0.98      0.81       946\n",
      "           1       0.55      0.06      0.11       436\n",
      "\n",
      "    accuracy                           0.69      1382\n",
      "   macro avg       0.62      0.52      0.46      1382\n",
      "weighted avg       0.65      0.69      0.59      1382\n",
      "\n"
     ]
    }
   ],
   "source": [
    "#obejrzyjmy jeszcze macierz pomyłek \n",
    "matrix_ll7 = confusion_matrix(Y_test_duplicated, Y_pred_ll7)\n",
    "raport_ll7 = classification_report(Y_test_duplicated, Y_pred_ll7)\n",
    "print(raport_ll7)"
   ]
  },
  {
   "cell_type": "markdown",
   "metadata": {},
   "source": [
    "Ta metoda w tym przypadku nie zdała egzaminu.\n"
   ]
  },
  {
   "cell_type": "markdown",
   "metadata": {},
   "source": [
    "**11.Ostatnią metodą bedzie regresja logistyczna na przeskalowanych danych + PCA**"
   ]
  },
  {
   "cell_type": "code",
   "execution_count": 87,
   "metadata": {},
   "outputs": [],
   "source": [
    "model_lr3 = LogisticRegression(random_state=1)\n",
    "model_lr3.fit(X_train_scaled_PCA, Y_train)\n",
    "Y_pred_lr3 = model_lr3.predict(X_test_scaled_PCA)"
   ]
  },
  {
   "cell_type": "code",
   "execution_count": 88,
   "metadata": {},
   "outputs": [
    {
     "name": "stdout",
     "output_type": "stream",
     "text": [
      "acc train:  0.9587 \n",
      " acc test:  0.9521\n"
     ]
    }
   ],
   "source": [
    "#ocena modelu na danych treningowych i testowych \n",
    "print(\"acc train: \",round(model_lr3.score(X_train_scaled_PCA, Y_train),4), \"\\n\",\n",
    "      \"acc test: \", round(model_lr3.score(X_test_scaled_PCA, Y_test),4))"
   ]
  },
  {
   "cell_type": "code",
   "execution_count": 89,
   "metadata": {},
   "outputs": [
    {
     "name": "stdout",
     "output_type": "stream",
     "text": [
      "              precision    recall  f1-score   support\n",
      "\n",
      "           0       0.95      1.00      0.98       935\n",
      "           1       0.00      0.00      0.00        47\n",
      "\n",
      "    accuracy                           0.95       982\n",
      "   macro avg       0.48      0.50      0.49       982\n",
      "weighted avg       0.91      0.95      0.93       982\n",
      "\n"
     ]
    },
    {
     "name": "stderr",
     "output_type": "stream",
     "text": [
      "C:\\Users\\Dawid\\anaconda3\\lib\\site-packages\\sklearn\\metrics\\_classification.py:1245: UndefinedMetricWarning: Precision and F-score are ill-defined and being set to 0.0 in labels with no predicted samples. Use `zero_division` parameter to control this behavior.\n",
      "  _warn_prf(average, modifier, msg_start, len(result))\n",
      "C:\\Users\\Dawid\\anaconda3\\lib\\site-packages\\sklearn\\metrics\\_classification.py:1245: UndefinedMetricWarning: Precision and F-score are ill-defined and being set to 0.0 in labels with no predicted samples. Use `zero_division` parameter to control this behavior.\n",
      "  _warn_prf(average, modifier, msg_start, len(result))\n",
      "C:\\Users\\Dawid\\anaconda3\\lib\\site-packages\\sklearn\\metrics\\_classification.py:1245: UndefinedMetricWarning: Precision and F-score are ill-defined and being set to 0.0 in labels with no predicted samples. Use `zero_division` parameter to control this behavior.\n",
      "  _warn_prf(average, modifier, msg_start, len(result))\n"
     ]
    }
   ],
   "source": [
    "#obejrzyjmy jeszcze macierz pomyłek \n",
    "matrix_lr3 = confusion_matrix(Y_test, Y_pred_lr3)\n",
    "raport_lr3 = classification_report(Y_test, Y_pred_lr3)\n",
    "print(raport_lr3)"
   ]
  },
  {
   "cell_type": "markdown",
   "metadata": {},
   "source": [
    "Niestety nic z tego, nie widzę potrzeby dalszych prób."
   ]
  },
  {
   "cell_type": "markdown",
   "metadata": {},
   "source": [
    "**12. Podsumowanie**  \n",
    "Wykorzystujac przedstawione tutaj metody, najlepszy wyniki, przedstawiony za pomoca F1 score dla obu klas, uzyskaliśmy stosujac model model_ll3 o parametrach jak ponizej."
   ]
  },
  {
   "cell_type": "code",
   "execution_count": 247,
   "metadata": {},
   "outputs": [
    {
     "data": {
      "text/plain": [
       "RandomForestClassifier(class_weight={0: 0.1163265306122449,\n",
       "                                     1: 0.883673469387755},\n",
       "                       max_depth=14, max_features=9, max_leaf_nodes=22,\n",
       "                       n_estimators=70)"
      ]
     },
     "execution_count": 247,
     "metadata": {},
     "output_type": "execute_result"
    }
   ],
   "source": [
    "model_ll3"
   ]
  },
  {
   "cell_type": "code",
   "execution_count": 249,
   "metadata": {},
   "outputs": [
    {
     "name": "stdout",
     "output_type": "stream",
     "text": [
      "nasz wynik to: \n",
      "               precision    recall  f1-score   support\n",
      "\n",
      "           0       0.97      0.91      0.94       973\n",
      "           1       0.21      0.45      0.28        49\n",
      "\n",
      "    accuracy                           0.89      1022\n",
      "   macro avg       0.59      0.68      0.61      1022\n",
      "weighted avg       0.93      0.89      0.91      1022\n",
      "\n"
     ]
    }
   ],
   "source": [
    "print(\"nasz wynik to: \\n\", raport_ll3)"
   ]
  },
  {
   "cell_type": "code",
   "execution_count": 40,
   "metadata": {
    "scrolled": true
   },
   "outputs": [
    {
     "data": {
      "image/png": "[encoded data removed]",
      "text/plain": [
       "<Figure size 432x288 with 1 Axes>"
      ]
     },
     "metadata": {
      "needs_background": "light"
     },
     "output_type": "display_data"
    }
   ],
   "source": [
    "#wyliczmy AUC-ROC dla naszego najlepszego modelu\n",
    "Y_pred_proba_ll3 = model_ll3.predict_proba(X_test)[::,1]\n",
    "FPR, TPR,_ = roc_curve(Y_test,Y_pred_proba_ll3)\n",
    "AUC = roc_auc_score(Y_test,Y_pred_proba_ll3)\n",
    "\n",
    "plt.plot(FPR, TPR, label = \"wynik \" + str(AUC))\n",
    "plt.xlabel(\"FPR\")\n",
    "plt.ylabel(\"TPR\")\n",
    "plt.show()"
   ]
  },
  {
   "cell_type": "markdown",
   "metadata": {},
   "source": [
    "Szukamy pkt, w którym mamy najwyzsze TPR i wzglednie niskie FPR,\n",
    "możemy uznać, że właściwym progiem klasyfikacji dla tego modelu bedzie nawet 0.2"
   ]
  },
  {
   "cell_type": "code",
   "execution_count": null,
   "metadata": {},
   "outputs": [],
   "source": [
    "#Sprawdzmy jak rzeczywiscie prezentuje sie modele przy klasyfikacji od progu 0.8"
   ]
  },
  {
   "cell_type": "code",
   "execution_count": 64,
   "metadata": {},
   "outputs": [],
   "source": [
    "#przypiszmy, więc decyzje na podstawie prawdopodobienstwo 0.2 i wyzej do klasy 1\n",
    "\n",
    "decyzje = pd.DataFrame( model_ll3.predict_proba(X_test)[::,1], columns= [\"a\"])\n",
    "\n",
    "lista_02 = []\n",
    "for i in decyzje[\"a\"]:\n",
    "    if i >0.2:\n",
    "        lista_02.append(1)\n",
    "    else:\n",
    "        lista_02.append(0)"
   ]
  },
  {
   "cell_type": "code",
   "execution_count": 63,
   "metadata": {},
   "outputs": [
    {
     "name": "stdout",
     "output_type": "stream",
     "text": [
      "              precision    recall  f1-score   support\n",
      "\n",
      "           0       0.99      0.68      0.80       975\n",
      "           1       0.11      0.85      0.20        47\n",
      "\n",
      "    accuracy                           0.69      1022\n",
      "   macro avg       0.55      0.76      0.50      1022\n",
      "weighted avg       0.95      0.69      0.78      1022\n",
      "\n"
     ]
    }
   ],
   "source": [
    "matrix_ll3_02 = confusion_matrix(Y_test, lista_02)\n",
    "raport_ll3_02 = classification_report(Y_test, lista_02)\n",
    "print(raport_ll3_02)"
   ]
  },
  {
   "cell_type": "markdown",
   "metadata": {},
   "source": [
    "**Nasz finalny model charakteryzuje się niską acc, bo 0.69, ale za to:**\n",
    "- poprawnie rozpoznaje 99% klasy 0,\n",
    "- jezeli juz przypisze kogos do klasy 1, to z 85% prawdopodobienstwem \n",
    "\n",
    "\n",
    "Niestety, przypisuje poprawnie tylko 11% objektów klasy 1."
   ]
  },
  {
   "cell_type": "markdown",
   "metadata": {},
   "source": [
    "**II Zaawansowane modele**"
   ]
  },
  {
   "cell_type": "markdown",
   "metadata": {},
   "source": [
    "**1.wykorzystajmy w naszej analizie model XGBoost**"
   ]
  },
  {
   "cell_type": "code",
   "execution_count": 90,
   "metadata": {},
   "outputs": [
    {
     "name": "stderr",
     "output_type": "stream",
     "text": [
      "C:\\Users\\Dawid\\anaconda3\\lib\\site-packages\\xgboost\\sklearn.py:1146: UserWarning: The use of label encoder in XGBClassifier is deprecated and will be removed in a future release. To remove this warning, do the following: 1) Pass option use_label_encoder=False when constructing XGBClassifier object; and 2) Encode your labels (y) as integers starting with 0, i.e. 0, 1, 2, ..., [num_class - 1].\n",
      "  warnings.warn(label_encoder_deprecation_msg, UserWarning)\n"
     ]
    },
    {
     "name": "stdout",
     "output_type": "stream",
     "text": [
      "acc train:  0.9982 \n",
      " acc test:  0.946\n"
     ]
    }
   ],
   "source": [
    "# prosty model xgb, nr1\n",
    "\n",
    "model_xgb1= XGBClassifier(objective = 'binary:logistic',random_state=1).fit(X_train, Y_train, eval_metric = \"logloss\")\n",
    "\n",
    "Y_pred_xgb1 =  model_xgb1.predict(X_test)\n",
    "\n",
    "#ocena modelu na danych treningowych i testowych \n",
    "print(\"acc train: \",round(model_xgb1.score(X_train, Y_train),4), \"\\n\",\n",
    "      \"acc test: \", round(model_xgb1.score(X_test, Y_test),4))\n",
    "\n"
   ]
  },
  {
   "cell_type": "code",
   "execution_count": 91,
   "metadata": {},
   "outputs": [
    {
     "name": "stdout",
     "output_type": "stream",
     "text": [
      "              precision    recall  f1-score   support\n",
      "\n",
      "           0       0.95      0.99      0.97       935\n",
      "           1       0.25      0.06      0.10        47\n",
      "\n",
      "    accuracy                           0.95       982\n",
      "   macro avg       0.60      0.53      0.54       982\n",
      "weighted avg       0.92      0.95      0.93       982\n",
      "\n"
     ]
    }
   ],
   "source": [
    "#obejrzyjmy jeszcze macierz pomyłek \n",
    "matrix_xgb1 = confusion_matrix(Y_test, Y_pred_xgb1)\n",
    "raport_xgb1 = classification_report(Y_test, Y_pred_xgb1)\n",
    "print(raport_xgb1)"
   ]
  },
  {
   "cell_type": "markdown",
   "metadata": {},
   "source": [
    "Widzimy, że prostym modelem XGB nie poprawiliśmy wyników dla 1 klasy.  \n",
    "Spróbujmy znaleźć bardziej optymalny zestaw parametrów przy użyciu optymalizatowra hyperopt"
   ]
  },
  {
   "cell_type": "code",
   "execution_count": 169,
   "metadata": {},
   "outputs": [],
   "source": [
    "#dane musza byc w odpowiednim formacie, dlatego dostosujmy df do formatu array\n",
    "X_train_array = X_train.values\n",
    "X_test_array = X_test.values\n",
    "\n",
    "#dostosujmy wartosci Y, za pomoca LabelEncoder\n",
    "le  = LabelEncoder()\n",
    "Y_train_encoded = le.fit_transform(Y_train)\n",
    "Y_test_encoded = le.fit_transform(Y_test)"
   ]
  },
  {
   "cell_type": "code",
   "execution_count": 93,
   "metadata": {},
   "outputs": [],
   "source": [
    "def run_xgb_hyperopt(X,Y,cv, num_eval):\n",
    "    def objective(parametry): #zdefiniujmy funkcje celu\n",
    "        model = XGBClassifier(**parametry, random_state = 10, objective = \"binary:logistic\",\n",
    "                              n_jobs = 2,use_label_encoder=False, scale_pos_weight = 10)\n",
    "                \n",
    "        for a, b in cv.split(X, Y):\n",
    "            eval_set = [(X[a],Y[a]),(X[b],Y[b])]\n",
    "            model.fit(X[a],Y[a],eval_set = eval_set, eval_metric = 'logloss', early_stopping_rounds = 10, verbose = 0) \n",
    "            y_pred = model.predict(X[b])\n",
    "            score =cohen_kappa_score(Y[b],y_pred)\n",
    "           # print(\"kappa score: {:.4f}\".format(score))\n",
    "            return{'loss': -score, 'status':STATUS_OK}\n",
    "        \n",
    "    parametry ={\n",
    "        'max_depth': scope.int(hp.quniform('max_depth',5,15,1)),\n",
    "        'n_estimators' : hp.choice('n_estimators', np.arange(20, 150, 2, dtype=int)),\n",
    "        'learning_rate' : hp.quniform('learning_rate', 0.001, 0.5, 0.005),\n",
    "        'min_child_weight': hp.quniform('min_child_weight', 1, 10, 1),\n",
    "        'subsample': hp.uniform('subsample', 0.7, 1),\n",
    "        'gamma' : hp.quniform('gamma', 0.5, 1, 0.05),\n",
    "        'colsample_bytree' : hp.quniform('colsample_bytree', 0.5, 1, 0.05)\n",
    "        }  \n",
    "    \n",
    "    trials = Trials()\n",
    "    \n",
    "    best = fmin(fn=objective,\n",
    "                space = parametry,\n",
    "                algo = tpe.suggest,\n",
    "                max_evals = num_eval,\n",
    "                trials = trials)\n",
    "    hyperparams = space_eval(parametry, best)\n",
    "    \n",
    "    print(\"Najlepsze parametry: \", hyperparams)\n",
    "    return hyperparams"
   ]
  },
  {
   "cell_type": "code",
   "execution_count": 94,
   "metadata": {},
   "outputs": [],
   "source": [
    "#zdefiniujmy jeszcze rodzaj walidacji, jako wykorzystamy\n",
    "kF = StratifiedKFold(n_splits = 5, shuffle= True, random_state= 10)"
   ]
  },
  {
   "cell_type": "code",
   "execution_count": 95,
   "metadata": {},
   "outputs": [
    {
     "name": "stdout",
     "output_type": "stream",
     "text": [
      "100%|██████| 20/20 [00:10<00:00,  1.86trial/s, best loss: -0.14540595771437548]\n",
      "Najlepsze parametry:  {'colsample_bytree': 0.6000000000000001, 'gamma': 0.75, 'learning_rate': 0.405, 'max_depth': 6, 'min_child_weight': 10.0, 'n_estimators': 22, 'subsample': 0.7201127678892102}\n"
     ]
    }
   ],
   "source": [
    "# odaplenie hyeropt\n",
    "best_XGB = run_xgb_hyperopt(X_train_array, Y_train_encoded, cv=kF, num_eval=20)\n"
   ]
  },
  {
   "cell_type": "code",
   "execution_count": 96,
   "metadata": {},
   "outputs": [],
   "source": [
    "# uruchomie teraz nasz najlepszy model\n",
    "model_xgb2 = XGBClassifier(**best_XGB, objective= \"binary:logistic\",use_label_encoder=False,random_state=1).fit(X_train,Y_train_encoded, eval_metric = 'logloss')\n",
    "Y_pred_xgb2 = model_xgb2.predict(X_test)"
   ]
  },
  {
   "cell_type": "code",
   "execution_count": 97,
   "metadata": {},
   "outputs": [
    {
     "name": "stdout",
     "output_type": "stream",
     "text": [
      "              precision    recall  f1-score   support\n",
      "\n",
      "           0       0.95      1.00      0.98       935\n",
      "           1       0.50      0.02      0.04        47\n",
      "\n",
      "    accuracy                           0.95       982\n",
      "   macro avg       0.73      0.51      0.51       982\n",
      "weighted avg       0.93      0.95      0.93       982\n",
      "\n"
     ]
    }
   ],
   "source": [
    "#obejrzyjmy jeszcze macierz pomyłek \n",
    "matrix_xgb2 = confusion_matrix(Y_test_encoded, Y_pred_xgb2)\n",
    "raport_xgb2 = classification_report(Y_test_encoded, Y_pred_xgb2)\n",
    "print(raport_xgb2)"
   ]
  },
  {
   "cell_type": "markdown",
   "metadata": {},
   "source": [
    "Jak widzimy bardziej zaawansowana metoda, jako jest XGBoost wraz z optymalizatorem parametrów przy użyciu hyperopta nie poprawiła znacznie naszego najlepszego wyniku osiagnietego przez model RandomForrest.\n",
    "Pokazuje nam z 98% dokladnościa przypadki braku ataku serca, ale bardzo słabo przewiduje faktyczne ataki serca"
   ]
  },
  {
   "cell_type": "markdown",
   "metadata": {},
   "source": [
    "**III Sieć neuronowa**"
   ]
  },
  {
   "cell_type": "code",
   "execution_count": 299,
   "metadata": {},
   "outputs": [],
   "source": [
    "import tensorflow as tf\n",
    "from keras import layers\n",
    "from tensorflow.keras import layers, callbacks\n",
    "from sklearn.preprocessing import OneHotEncoder\n",
    "from imblearn.over_sampling import SMOTE\n"
   ]
  },
  {
   "cell_type": "code",
   "execution_count": 135,
   "metadata": {},
   "outputs": [],
   "source": [
    "# transformujemy Y_test i Y_train\n",
    "\n",
    "Y_train = np.array(Y_train)\n",
    "Y_test = np.array(Y_test)\n",
    "\n",
    "Y_test = OneHotEncoder().fit_transform(Y_test.reshape(-1,1)).toarray()\n",
    "Y_train = OneHotEncoder().fit_transform(Y_train.reshape(-1,1)).toarray()\n",
    "\n",
    "# zmienmy jeszcze format\n",
    "Y_test = Y_test.astype(np.float32)\n",
    "Y_train = Y_train.astype(np.float32)"
   ]
  },
  {
   "cell_type": "code",
   "execution_count": 335,
   "metadata": {},
   "outputs": [],
   "source": [
    "#definicja modelu\n",
    "def model_nn(X,Y, units, drop, classNum, epoch, lr = 0.01, bn = False):\n",
    "    '''\n",
    "    X - dane treningowe w postaci array bez labeli,\n",
    "    Y - labeli dla danych treningowych\n",
    "    units - lista unitow dla poszczegolnych warstw\n",
    "    drop - poziom dropoutu dla poszczegolnej wartswy\n",
    "    classNum = ilosc klas \n",
    "    epoch - liczba epok podczas trenowania \n",
    "    lr - learning rate\n",
    "    bn - czy zastosowac batch normalization \n",
    "    '''\n",
    "    model = tf.keras.models.Sequential()\n",
    "    model.add(layers.InputLayer(input_shape = X.shape[1]))\n",
    "    for i, j in enumerate(units):\n",
    "        model.add(layers.Dense(j, activation='relu', name=\"ukryta_\" + str(i)))\n",
    "        model.add(layers.Dropout(drop))\n",
    "        if bn == True:\n",
    "            model.add(layers.BatchNormalization())\n",
    "                  \n",
    "    model.add(layers.Dense(classNum, name=\"WYJSCIE\"))\n",
    "    model.add(layers.Softmax())\n",
    "    \n",
    "    model.summary()\n",
    "    \n",
    "    optymalizator = tf.optimizers.Adam(lr)\n",
    "    \n",
    "    model.compile(optimizer=optymalizator,\n",
    "              loss=tf.keras.losses.BinaryCrossentropy(),\n",
    "              metrics=['AUC'])\n",
    "    \n",
    "    results = model.fit(X,Y, validation_split= 0.2, epochs=epoch, verbose=1,\n",
    "              callbacks=[callbacks.EarlyStopping(monitor= 'val_auc', min_delta=0.1, \n",
    "                                                    patience=5)])\n",
    "    return model"
   ]
  },
  {
   "cell_type": "code",
   "execution_count": 188,
   "metadata": {},
   "outputs": [
    {
     "name": "stdout",
     "output_type": "stream",
     "text": [
      "Model: \"sequential_19\"\n",
      "_________________________________________________________________\n",
      "Layer (type)                 Output Shape              Param #   \n",
      "=================================================================\n",
      "ukryta_0 (Dense)             (None, 512)               8704      \n",
      "_________________________________________________________________\n",
      "dropout_42 (Dropout)         (None, 512)               0         \n",
      "_________________________________________________________________\n",
      "ukryta_1 (Dense)             (None, 256)               131328    \n",
      "_________________________________________________________________\n",
      "dropout_43 (Dropout)         (None, 256)               0         \n",
      "_________________________________________________________________\n",
      "ukryta_2 (Dense)             (None, 64)                16448     \n",
      "_________________________________________________________________\n",
      "dropout_44 (Dropout)         (None, 64)                0         \n",
      "_________________________________________________________________\n",
      "WYJSCIE (Dense)              (None, 2)                 130       \n",
      "_________________________________________________________________\n",
      "softmax_14 (Softmax)         (None, 2)                 0         \n",
      "=================================================================\n",
      "Total params: 156,610\n",
      "Trainable params: 156,610\n",
      "Non-trainable params: 0\n",
      "_________________________________________________________________\n",
      "Epoch 1/30\n",
      "99/99 [==============================] - 3s 12ms/step - loss: 0.6765 - auc: 0.9549 - val_loss: 0.6439 - val_auc: 0.9580\n",
      "Epoch 2/30\n",
      "99/99 [==============================] - 1s 8ms/step - loss: 0.6299 - auc: 0.9589 - val_loss: 0.6439 - val_auc: 0.9580\n",
      "Epoch 3/30\n",
      "99/99 [==============================] - 1s 7ms/step - loss: 0.6299 - auc: 0.9589 - val_loss: 0.6439 - val_auc: 0.9580\n",
      "Epoch 4/30\n",
      "99/99 [==============================] - 1s 6ms/step - loss: 0.6299 - auc: 0.9589 - val_loss: 0.6439 - val_auc: 0.9580\n",
      "Epoch 5/30\n",
      "99/99 [==============================] - 1s 6ms/step - loss: 0.6299 - auc: 0.9589 - val_loss: 0.6439 - val_auc: 0.9580\n",
      "Epoch 6/30\n",
      "99/99 [==============================] - 1s 7ms/step - loss: 0.6299 - auc: 0.9589 - val_loss: 0.6439 - val_auc: 0.9580\n"
     ]
    }
   ],
   "source": [
    "model_nn1 = model_nn(X_train_array, Y_train,[512,256,64],0.3,2,30)\n",
    "Y_pred_nn1 = model_nn1.predict(X_test_array).argmax(axis = 1)"
   ]
  },
  {
   "cell_type": "code",
   "execution_count": 172,
   "metadata": {},
   "outputs": [
    {
     "name": "stdout",
     "output_type": "stream",
     "text": [
      "31/31 [==============================] - 0s 3ms/step - loss: 0.7341 - auc: 0.9521\n",
      "loss: 0.7340565323829651\n",
      "auc: 0.9521384239196777\n"
     ]
    }
   ],
   "source": [
    "# szybka ewaluacja\n",
    "eval_res = model_nn1.evaluate(X_test_array, Y_test)\n",
    "eval_names = model_nn1.metrics_names\n",
    "print(f\"{eval_names[0]}: {eval_res[0]}\")\n",
    "print(f\"{eval_names[1]}: {eval_res[1]}\")"
   ]
  },
  {
   "cell_type": "code",
   "execution_count": 198,
   "metadata": {},
   "outputs": [
    {
     "name": "stdout",
     "output_type": "stream",
     "text": [
      "              precision    recall  f1-score   support\n",
      "\n",
      "           0       0.95      1.00      0.98       935\n",
      "           1       0.00      0.00      0.00        47\n",
      "\n",
      "    accuracy                           0.95       982\n",
      "   macro avg       0.48      0.50      0.49       982\n",
      "weighted avg       0.91      0.95      0.93       982\n",
      "\n"
     ]
    },
    {
     "name": "stderr",
     "output_type": "stream",
     "text": [
      "C:\\Users\\Dawid\\anaconda3\\lib\\site-packages\\sklearn\\metrics\\_classification.py:1245: UndefinedMetricWarning: Precision and F-score are ill-defined and being set to 0.0 in labels with no predicted samples. Use `zero_division` parameter to control this behavior.\n",
      "  _warn_prf(average, modifier, msg_start, len(result))\n",
      "C:\\Users\\Dawid\\anaconda3\\lib\\site-packages\\sklearn\\metrics\\_classification.py:1245: UndefinedMetricWarning: Precision and F-score are ill-defined and being set to 0.0 in labels with no predicted samples. Use `zero_division` parameter to control this behavior.\n",
      "  _warn_prf(average, modifier, msg_start, len(result))\n",
      "C:\\Users\\Dawid\\anaconda3\\lib\\site-packages\\sklearn\\metrics\\_classification.py:1245: UndefinedMetricWarning: Precision and F-score are ill-defined and being set to 0.0 in labels with no predicted samples. Use `zero_division` parameter to control this behavior.\n",
      "  _warn_prf(average, modifier, msg_start, len(result))\n"
     ]
    }
   ],
   "source": [
    "#obejrzyjmy jeszcze macierz pomyłek \n",
    "matrix_nn1 = confusion_matrix(Y_test.argmax(axis = 1), Y_pred_nn1)\n",
    "raport_nn1 = classification_report(Y_test.argmax(axis = 1), Y_pred_nn1)\n",
    "print(raport_nn1)"
   ]
  },
  {
   "cell_type": "markdown",
   "metadata": {},
   "source": [
    "Model nie rozpoznaje w ogóle klasy 2, spróbujmy innych konfiguracji."
   ]
  },
  {
   "cell_type": "code",
   "execution_count": 201,
   "metadata": {},
   "outputs": [
    {
     "name": "stdout",
     "output_type": "stream",
     "text": [
      "Model: \"sequential_22\"\n",
      "_________________________________________________________________\n",
      "Layer (type)                 Output Shape              Param #   \n",
      "=================================================================\n",
      "ukryta_0 (Dense)             (None, 256)               4352      \n",
      "_________________________________________________________________\n",
      "dropout_49 (Dropout)         (None, 256)               0         \n",
      "_________________________________________________________________\n",
      "ukryta_1 (Dense)             (None, 128)               32896     \n",
      "_________________________________________________________________\n",
      "dropout_50 (Dropout)         (None, 128)               0         \n",
      "_________________________________________________________________\n",
      "WYJSCIE (Dense)              (None, 2)                 258       \n",
      "_________________________________________________________________\n",
      "softmax_17 (Softmax)         (None, 2)                 0         \n",
      "=================================================================\n",
      "Total params: 37,506\n",
      "Trainable params: 37,506\n",
      "Non-trainable params: 0\n",
      "_________________________________________________________________\n",
      "Epoch 1/30\n",
      "99/99 [==============================] - 2s 7ms/step - loss: 0.7510 - auc: 0.9510 - val_loss: 0.6439 - val_auc: 0.9580\n",
      "Epoch 2/30\n",
      "99/99 [==============================] - 0s 4ms/step - loss: 0.6299 - auc: 0.9589 - val_loss: 0.6439 - val_auc: 0.9580\n",
      "Epoch 3/30\n",
      "99/99 [==============================] - 0s 4ms/step - loss: 0.6299 - auc: 0.9589 - val_loss: 0.6439 - val_auc: 0.9580\n",
      "Epoch 4/30\n",
      "99/99 [==============================] - 0s 4ms/step - loss: 0.6299 - auc: 0.9589 - val_loss: 0.6439 - val_auc: 0.9580\n",
      "Epoch 5/30\n",
      "99/99 [==============================] - 0s 4ms/step - loss: 0.6299 - auc: 0.9589 - val_loss: 0.6439 - val_auc: 0.9580\n",
      "Epoch 6/30\n",
      "99/99 [==============================] - 0s 4ms/step - loss: 0.6299 - auc: 0.9589 - val_loss: 0.6439 - val_auc: 0.9580\n",
      "31/31 [==============================] - 0s 2ms/step - loss: 0.7341 - auc: 0.9521\n",
      "loss: 0.7340565323829651\n",
      "auc: 0.9521384239196777\n",
      "              precision    recall  f1-score   support\n",
      "\n",
      "           0       0.95      1.00      0.98       935\n",
      "           1       0.00      0.00      0.00        47\n",
      "\n",
      "    accuracy                           0.95       982\n",
      "   macro avg       0.48      0.50      0.49       982\n",
      "weighted avg       0.91      0.95      0.93       982\n",
      "\n"
     ]
    },
    {
     "name": "stderr",
     "output_type": "stream",
     "text": [
      "C:\\Users\\Dawid\\anaconda3\\lib\\site-packages\\sklearn\\metrics\\_classification.py:1245: UndefinedMetricWarning: Precision and F-score are ill-defined and being set to 0.0 in labels with no predicted samples. Use `zero_division` parameter to control this behavior.\n",
      "  _warn_prf(average, modifier, msg_start, len(result))\n",
      "C:\\Users\\Dawid\\anaconda3\\lib\\site-packages\\sklearn\\metrics\\_classification.py:1245: UndefinedMetricWarning: Precision and F-score are ill-defined and being set to 0.0 in labels with no predicted samples. Use `zero_division` parameter to control this behavior.\n",
      "  _warn_prf(average, modifier, msg_start, len(result))\n",
      "C:\\Users\\Dawid\\anaconda3\\lib\\site-packages\\sklearn\\metrics\\_classification.py:1245: UndefinedMetricWarning: Precision and F-score are ill-defined and being set to 0.0 in labels with no predicted samples. Use `zero_division` parameter to control this behavior.\n",
      "  _warn_prf(average, modifier, msg_start, len(result))\n"
     ]
    }
   ],
   "source": [
    "model_nn2 = model_nn(X_train_array, Y_train,[256,128],0.5,2,30,0.1)\n",
    "Y_pred_nn2 = model_nn2.predict(X_test_array).argmax(axis = 1)\n",
    "\n",
    "# szybka ewaluacja\n",
    "eval_res = model_nn2.evaluate(X_test_array, Y_test)\n",
    "eval_names = model_nn2.metrics_names\n",
    "print(f\"{eval_names[0]}: {eval_res[0]}\")\n",
    "print(f\"{eval_names[1]}: {eval_res[1]}\")\n",
    "\n",
    "#obejrzyjmy jeszcze macierz pomyłek \n",
    "matrix_nn2 = confusion_matrix(Y_test.argmax(axis = 1), Y_pred_nn2)\n",
    "raport_nn2 = classification_report(Y_test.argmax(axis = 1), Y_pred_nn2)\n",
    "print(raport_nn2)"
   ]
  },
  {
   "cell_type": "code",
   "execution_count": 313,
   "metadata": {},
   "outputs": [],
   "source": [
    "#Sprobujmy wykorzystac inne metode replikacje danych, dla poradzenia sobie z problemem niezbalansowania.\n",
    "\n",
    "smote = SMOTE(sampling_strategy = 'minority')\n",
    "x_sm, y_sm = smote.fit_resample(X,Y)\n",
    "\n",
    "\n",
    "# podzielmy jeszcze raz zbior na zbior treningowy i testowy\n",
    "X_train1, X_test1, Y_train1,Y_test1 = train_test_split(x_sm,y_sm, test_size = 0.2)"
   ]
  },
  {
   "cell_type": "code",
   "execution_count": 314,
   "metadata": {},
   "outputs": [],
   "source": [
    "# Przetworzmy dane do formatu wejsciowego do modelu\n",
    "\n",
    "X_train_array_d = X_train1.values\n",
    "X_test_array_d = X_test1.values\n",
    "\n",
    "\n",
    "# transformujemy Y_test_duplicated i Y_test_duplicated\n",
    "\n",
    "Y_train_d = np.array(Y_train1)\n",
    "Y_test_d = np.array(Y_test1)\n",
    "\n",
    "Y_test_d = OneHotEncoder().fit_transform(Y_test_d.reshape(-1,1)).toarray()\n",
    "# zmienmy jeszcze format\n",
    "Y_test_d = Y_test_d.astype(np.float32)\n",
    "\n",
    "# transformujemy y_train\n",
    "Y_train_d = OneHotEncoder().fit_transform(Y_train_d.reshape(-1,1)).toarray()\n",
    "# zmienmy jeszcze format\n",
    "Y_train_d = Y_train_d.astype(np.float32)\n"
   ]
  },
  {
   "cell_type": "code",
   "execution_count": 316,
   "metadata": {},
   "outputs": [
    {
     "name": "stdout",
     "output_type": "stream",
     "text": [
      "Model: \"sequential_115\"\n",
      "_________________________________________________________________\n",
      "Layer (type)                 Output Shape              Param #   \n",
      "=================================================================\n",
      "ukryta_0 (Dense)             (None, 256)               4352      \n",
      "_________________________________________________________________\n",
      "dropout_236 (Dropout)        (None, 256)               0         \n",
      "_________________________________________________________________\n",
      "batch_normalization_131 (Bat (None, 256)               1024      \n",
      "_________________________________________________________________\n",
      "ukryta_1 (Dense)             (None, 128)               32896     \n",
      "_________________________________________________________________\n",
      "dropout_237 (Dropout)        (None, 128)               0         \n",
      "_________________________________________________________________\n",
      "batch_normalization_132 (Bat (None, 128)               512       \n",
      "_________________________________________________________________\n",
      "WYJSCIE (Dense)              (None, 2)                 258       \n",
      "_________________________________________________________________\n",
      "softmax_110 (Softmax)        (None, 2)                 0         \n",
      "=================================================================\n",
      "Total params: 39,042\n",
      "Trainable params: 38,274\n",
      "Non-trainable params: 768\n",
      "_________________________________________________________________\n",
      "Epoch 1/30\n",
      "188/188 [==============================] - 3s 6ms/step - loss: 0.7052 - auc: 0.7295 - val_loss: 0.5790 - val_auc: 0.8224\n",
      "Epoch 2/30\n",
      "188/188 [==============================] - 1s 4ms/step - loss: 0.6581 - auc: 0.7610 - val_loss: 0.4520 - val_auc: 0.8688\n",
      "Epoch 3/30\n",
      "188/188 [==============================] - 1s 4ms/step - loss: 0.5863 - auc: 0.7842 - val_loss: 0.4592 - val_auc: 0.8843\n",
      "Epoch 4/30\n",
      "188/188 [==============================] - 1s 4ms/step - loss: 0.5967 - auc: 0.7755 - val_loss: 0.5035 - val_auc: 0.8436\n",
      "Epoch 5/30\n",
      "188/188 [==============================] - 1s 4ms/step - loss: 0.6159 - auc: 0.7521 - val_loss: 0.5042 - val_auc: 0.8408\n",
      "Epoch 6/30\n",
      "188/188 [==============================] - 1s 4ms/step - loss: 0.7346 - auc: 0.7333 - val_loss: 0.5034 - val_auc: 0.8234\n",
      "59/59 [==============================] - 1s 3ms/step - loss: 0.5070 - auc: 0.8212\n",
      "loss: 0.5069677233695984\n",
      "auc: 0.821212887763977\n",
      "              precision    recall  f1-score   support\n",
      "\n",
      "           0       0.66      0.93      0.77       937\n",
      "           1       0.88      0.53      0.66       943\n",
      "\n",
      "    accuracy                           0.73      1880\n",
      "   macro avg       0.77      0.73      0.72      1880\n",
      "weighted avg       0.77      0.73      0.72      1880\n",
      "\n"
     ]
    }
   ],
   "source": [
    "model_nn3 = model_nn(X_train_array_d, Y_train_d,[256,128],0.5,2,30,0.1, True)\n",
    "Y_pred_nn3 = model_nn3.predict(X_test_array_d).argmax(axis = 1)\n",
    "\n",
    "# szybka ewaluacja\n",
    "eval_res = model_nn3.evaluate(X_test_array_d, Y_test_d)\n",
    "eval_names = model_nn3.metrics_names\n",
    "print(f\"{eval_names[0]}: {eval_res[0]}\")\n",
    "print(f\"{eval_names[1]}: {eval_res[1]}\")\n",
    "\n",
    "#obejrzyjmy jeszcze macierz pomyłek \n",
    "matrix_nn3 = confusion_matrix(Y_test_d.argmax(axis = 1), Y_pred_nn3)\n",
    "raport_nn3 = classification_report(Y_test_d.argmax(axis = 1), Y_pred_nn3)\n",
    "print(raport_nn3)"
   ]
  },
  {
   "cell_type": "markdown",
   "metadata": {},
   "source": [
    "Model po replikacji danych osiagnal znaczna poprawe, sprobujmy jeszcze kilku eksperymentów."
   ]
  },
  {
   "cell_type": "code",
   "execution_count": 317,
   "metadata": {},
   "outputs": [
    {
     "name": "stdout",
     "output_type": "stream",
     "text": [
      "Model: \"sequential_116\"\n",
      "_________________________________________________________________\n",
      "Layer (type)                 Output Shape              Param #   \n",
      "=================================================================\n",
      "ukryta_0 (Dense)             (None, 512)               8704      \n",
      "_________________________________________________________________\n",
      "dropout_238 (Dropout)        (None, 512)               0         \n",
      "_________________________________________________________________\n",
      "batch_normalization_133 (Bat (None, 512)               2048      \n",
      "_________________________________________________________________\n",
      "WYJSCIE (Dense)              (None, 2)                 1026      \n",
      "_________________________________________________________________\n",
      "softmax_111 (Softmax)        (None, 2)                 0         \n",
      "=================================================================\n",
      "Total params: 11,778\n",
      "Trainable params: 10,754\n",
      "Non-trainable params: 1,024\n",
      "_________________________________________________________________\n",
      "Epoch 1/30\n",
      "188/188 [==============================] - 3s 6ms/step - loss: 0.5793 - auc: 0.8039 - val_loss: 0.4340 - val_auc: 0.8843\n",
      "Epoch 2/30\n",
      "188/188 [==============================] - 1s 4ms/step - loss: 0.4643 - auc: 0.8627 - val_loss: 0.5613 - val_auc: 0.7667\n",
      "Epoch 3/30\n",
      "188/188 [==============================] - 1s 4ms/step - loss: 0.4149 - auc: 0.8914 - val_loss: 0.8991 - val_auc: 0.7131\n",
      "Epoch 4/30\n",
      "188/188 [==============================] - 1s 4ms/step - loss: 0.4051 - auc: 0.8977 - val_loss: 0.7781 - val_auc: 0.7182\n",
      "Epoch 5/30\n",
      "188/188 [==============================] - 1s 4ms/step - loss: 0.4027 - auc: 0.8991 - val_loss: 0.6987 - val_auc: 0.7300\n",
      "Epoch 6/30\n",
      "188/188 [==============================] - 1s 4ms/step - loss: 0.4053 - auc: 0.8962 - val_loss: 0.4470 - val_auc: 0.8695\n",
      "59/59 [==============================] - 0s 3ms/step - loss: 0.4481 - auc: 0.8679\n",
      "loss: 0.44808194041252136\n",
      "auc: 0.8678510189056396\n",
      "              precision    recall  f1-score   support\n",
      "\n",
      "           0       0.70      0.96      0.81       937\n",
      "           1       0.93      0.60      0.73       943\n",
      "\n",
      "    accuracy                           0.78      1880\n",
      "   macro avg       0.82      0.78      0.77      1880\n",
      "weighted avg       0.82      0.78      0.77      1880\n",
      "\n"
     ]
    }
   ],
   "source": [
    "model_nn4 = model_nn(X_train_array_d, Y_train_d,[512],0.5,2,30,0.001, True)\n",
    "Y_pred_nn4 = model_nn4.predict(X_test_array_d).argmax(axis = 1)\n",
    "\n",
    "# szybka ewaluacja\n",
    "eval_res = model_nn4.evaluate(X_test_array_d, Y_test_d)\n",
    "eval_names = model_nn4.metrics_names\n",
    "print(f\"{eval_names[0]}: {eval_res[0]}\")\n",
    "print(f\"{eval_names[1]}: {eval_res[1]}\")\n",
    "\n",
    "#obejrzyjmy jeszcze macierz pomyłek \n",
    "matrix_nn4 = confusion_matrix(Y_test_d.argmax(axis = 1), Y_pred_nn4)\n",
    "raport_nn4 = classification_report(Y_test_d.argmax(axis = 1), Y_pred_nn4)\n",
    "print(raport_nn4)"
   ]
  },
  {
   "cell_type": "code",
   "execution_count": 321,
   "metadata": {},
   "outputs": [
    {
     "name": "stdout",
     "output_type": "stream",
     "text": [
      "Model: \"sequential_120\"\n",
      "_________________________________________________________________\n",
      "Layer (type)                 Output Shape              Param #   \n",
      "=================================================================\n",
      "ukryta_0 (Dense)             (None, 512)               8704      \n",
      "_________________________________________________________________\n",
      "dropout_243 (Dropout)        (None, 512)               0         \n",
      "_________________________________________________________________\n",
      "batch_normalization_138 (Bat (None, 512)               2048      \n",
      "_________________________________________________________________\n",
      "ukryta_1 (Dense)             (None, 128)               65664     \n",
      "_________________________________________________________________\n",
      "dropout_244 (Dropout)        (None, 128)               0         \n",
      "_________________________________________________________________\n",
      "batch_normalization_139 (Bat (None, 128)               512       \n",
      "_________________________________________________________________\n",
      "WYJSCIE (Dense)              (None, 2)                 258       \n",
      "_________________________________________________________________\n",
      "softmax_115 (Softmax)        (None, 2)                 0         \n",
      "=================================================================\n",
      "Total params: 77,186\n",
      "Trainable params: 75,906\n",
      "Non-trainable params: 1,280\n",
      "_________________________________________________________________\n",
      "Epoch 1/30\n",
      "188/188 [==============================] - 3s 7ms/step - loss: 0.6373 - auc: 0.7772 - val_loss: 0.5732 - val_auc: 0.8212\n",
      "Epoch 2/30\n",
      "188/188 [==============================] - 1s 5ms/step - loss: 0.5864 - auc: 0.8074 - val_loss: 0.4780 - val_auc: 0.8597\n",
      "Epoch 3/30\n",
      "188/188 [==============================] - 1s 5ms/step - loss: 0.5444 - auc: 0.8233 - val_loss: 0.4571 - val_auc: 0.8704\n",
      "Epoch 4/30\n",
      "188/188 [==============================] - 1s 6ms/step - loss: 0.5189 - auc: 0.8352 - val_loss: 0.4369 - val_auc: 0.8804\n",
      "Epoch 5/30\n",
      "188/188 [==============================] - 1s 5ms/step - loss: 0.5044 - auc: 0.8423 - val_loss: 0.4126 - val_auc: 0.8967\n",
      "Epoch 6/30\n",
      "188/188 [==============================] - 1s 5ms/step - loss: 0.4840 - auc: 0.8550 - val_loss: 0.3940 - val_auc: 0.9046\n",
      "59/59 [==============================] - 1s 3ms/step - loss: 0.4082 - auc: 0.8993\n",
      "loss: 0.4082390367984772\n",
      "auc: 0.8993103504180908\n",
      "              precision    recall  f1-score   support\n",
      "\n",
      "           0       0.89      0.73      0.81       937\n",
      "           1       0.78      0.91      0.84       943\n",
      "\n",
      "    accuracy                           0.82      1880\n",
      "   macro avg       0.83      0.82      0.82      1880\n",
      "weighted avg       0.83      0.82      0.82      1880\n",
      "\n"
     ]
    }
   ],
   "source": [
    "model_nn5 = model_nn(X_train_array_d, Y_train_d,[512,128],0.2,2,30,0.0001, True)\n",
    "Y_pred_nn5 = model_nn5.predict(X_test_array_d).argmax(axis = 1)\n",
    "\n",
    "# szybka ewaluacja\n",
    "eval_res = model_nn5.evaluate(X_test_array_d, Y_test_d)\n",
    "eval_names = model_nn5.metrics_names\n",
    "print(f\"{eval_names[0]}: {eval_res[0]}\")\n",
    "print(f\"{eval_names[1]}: {eval_res[1]}\")\n",
    "\n",
    "#obejrzyjmy jeszcze macierz pomyłek \n",
    "matrix_nn5 = confusion_matrix(Y_test_d.argmax(axis = 1), Y_pred_nn5)\n",
    "raport_nn5 = classification_report(Y_test_d.argmax(axis = 1), Y_pred_nn5)\n",
    "print(raport_nn5)"
   ]
  },
  {
   "cell_type": "code",
   "execution_count": 331,
   "metadata": {},
   "outputs": [
    {
     "name": "stdout",
     "output_type": "stream",
     "text": [
      "Model: \"sequential_129\"\n",
      "_________________________________________________________________\n",
      "Layer (type)                 Output Shape              Param #   \n",
      "=================================================================\n",
      "ukryta_0 (Dense)             (None, 512)               8704      \n",
      "_________________________________________________________________\n",
      "dropout_267 (Dropout)        (None, 512)               0         \n",
      "_________________________________________________________________\n",
      "batch_normalization_162 (Bat (None, 512)               2048      \n",
      "_________________________________________________________________\n",
      "ukryta_1 (Dense)             (None, 256)               131328    \n",
      "_________________________________________________________________\n",
      "dropout_268 (Dropout)        (None, 256)               0         \n",
      "_________________________________________________________________\n",
      "batch_normalization_163 (Bat (None, 256)               1024      \n",
      "_________________________________________________________________\n",
      "WYJSCIE (Dense)              (None, 2)                 514       \n",
      "_________________________________________________________________\n",
      "softmax_124 (Softmax)        (None, 2)                 0         \n",
      "=================================================================\n",
      "Total params: 143,618\n",
      "Trainable params: 142,082\n",
      "Non-trainable params: 1,536\n",
      "_________________________________________________________________\n",
      "Epoch 1/30\n",
      "188/188 [==============================] - 3s 8ms/step - loss: 0.6335 - auc: 0.7867 - val_loss: 0.5433 - val_auc: 0.8287\n",
      "Epoch 2/30\n",
      "188/188 [==============================] - 1s 6ms/step - loss: 0.5407 - auc: 0.8292 - val_loss: 0.4705 - val_auc: 0.8718\n",
      "Epoch 3/30\n",
      "188/188 [==============================] - 1s 6ms/step - loss: 0.5094 - auc: 0.8421 - val_loss: 0.4093 - val_auc: 0.8952\n",
      "Epoch 4/30\n",
      "188/188 [==============================] - 1s 6ms/step - loss: 0.4774 - auc: 0.8588 - val_loss: 0.3689 - val_auc: 0.9165\n",
      "Epoch 5/30\n",
      "188/188 [==============================] - 1s 6ms/step - loss: 0.4390 - auc: 0.8798 - val_loss: 0.3418 - val_auc: 0.9273\n",
      "Epoch 6/30\n",
      "188/188 [==============================] - 1s 6ms/step - loss: 0.4038 - auc: 0.8984 - val_loss: 0.3254 - val_auc: 0.9362\n",
      "59/59 [==============================] - 1s 4ms/step - loss: 0.3422 - auc: 0.9292\n",
      "loss: 0.34222978353500366\n",
      "auc: 0.9291889667510986\n",
      "              precision    recall  f1-score   support\n",
      "\n",
      "           0       0.87      0.83      0.85       937\n",
      "           1       0.84      0.88      0.86       943\n",
      "\n",
      "    accuracy                           0.86      1880\n",
      "   macro avg       0.86      0.86      0.86      1880\n",
      "weighted avg       0.86      0.86      0.86      1880\n",
      "\n"
     ]
    }
   ],
   "source": [
    "model_nn6 = model_nn(X_train_array_d, Y_train_d,[512,256],0.1,2,30,0.0001, True)\n",
    "Y_pred_nn6 = model_nn6.predict(X_test_array_d).argmax(axis = 1)\n",
    "\n",
    "# szybka ewaluacja\n",
    "eval_res = model_nn6.evaluate(X_test_array_d, Y_test_d)\n",
    "eval_names = model_nn6.metrics_names\n",
    "print(f\"{eval_names[0]}: {eval_res[0]}\")\n",
    "print(f\"{eval_names[1]}: {eval_res[1]}\")\n",
    "\n",
    "#obejrzyjmy jeszcze macierz pomyłek \n",
    "matrix_nn6 = confusion_matrix(Y_test_d.argmax(axis = 1), Y_pred_nn6)\n",
    "raport_nn6 = classification_report(Y_test_d.argmax(axis = 1), Y_pred_nn6)\n",
    "print(raport_nn6)"
   ]
  },
  {
   "cell_type": "code",
   "execution_count": 332,
   "metadata": {},
   "outputs": [
    {
     "name": "stdout",
     "output_type": "stream",
     "text": [
      "Model: \"sequential_130\"\n",
      "_________________________________________________________________\n",
      "Layer (type)                 Output Shape              Param #   \n",
      "=================================================================\n",
      "ukryta_0 (Dense)             (None, 1024)              17408     \n",
      "_________________________________________________________________\n",
      "dropout_269 (Dropout)        (None, 1024)              0         \n",
      "_________________________________________________________________\n",
      "batch_normalization_164 (Bat (None, 1024)              4096      \n",
      "_________________________________________________________________\n",
      "ukryta_1 (Dense)             (None, 256)               262400    \n",
      "_________________________________________________________________\n",
      "dropout_270 (Dropout)        (None, 256)               0         \n",
      "_________________________________________________________________\n",
      "batch_normalization_165 (Bat (None, 256)               1024      \n",
      "_________________________________________________________________\n",
      "WYJSCIE (Dense)              (None, 2)                 514       \n",
      "_________________________________________________________________\n",
      "softmax_125 (Softmax)        (None, 2)                 0         \n",
      "=================================================================\n",
      "Total params: 285,442\n",
      "Trainable params: 282,882\n",
      "Non-trainable params: 2,560\n",
      "_________________________________________________________________\n",
      "Epoch 1/30\n",
      "188/188 [==============================] - 4s 11ms/step - loss: 0.5769 - auc: 0.8142 - val_loss: 0.5280 - val_auc: 0.8448\n",
      "Epoch 2/30\n",
      "188/188 [==============================] - 2s 10ms/step - loss: 0.4946 - auc: 0.8544 - val_loss: 0.4077 - val_auc: 0.8969\n",
      "Epoch 3/30\n",
      "188/188 [==============================] - 2s 9ms/step - loss: 0.4556 - auc: 0.8731 - val_loss: 0.3377 - val_auc: 0.9304\n",
      "Epoch 4/30\n",
      "188/188 [==============================] - 2s 10ms/step - loss: 0.4264 - auc: 0.8896 - val_loss: 0.3113 - val_auc: 0.9454\n",
      "Epoch 5/30\n",
      "188/188 [==============================] - 2s 10ms/step - loss: 0.4025 - auc: 0.9022 - val_loss: 0.3153 - val_auc: 0.9385\n",
      "Epoch 6/30\n",
      "188/188 [==============================] - 2s 10ms/step - loss: 0.3712 - auc: 0.9165 - val_loss: 0.2882 - val_auc: 0.9500\n",
      "59/59 [==============================] - 1s 5ms/step - loss: 0.2992 - auc: 0.9465\n",
      "loss: 0.29919472336769104\n",
      "auc: 0.9464707970619202\n",
      "              precision    recall  f1-score   support\n",
      "\n",
      "           0       0.93      0.81      0.87       937\n",
      "           1       0.83      0.94      0.88       943\n",
      "\n",
      "    accuracy                           0.88      1880\n",
      "   macro avg       0.88      0.88      0.88      1880\n",
      "weighted avg       0.88      0.88      0.88      1880\n",
      "\n"
     ]
    }
   ],
   "source": [
    "model_nn6 = model_nn(X_train_array_d, Y_train_d,[1024,256],0.1,2,30,0.0001, True)\n",
    "Y_pred_nn6 = model_nn6.predict(X_test_array_d).argmax(axis = 1)\n",
    "\n",
    "# szybka ewaluacja\n",
    "eval_res = model_nn6.evaluate(X_test_array_d, Y_test_d)\n",
    "eval_names = model_nn6.metrics_names\n",
    "print(f\"{eval_names[0]}: {eval_res[0]}\")\n",
    "print(f\"{eval_names[1]}: {eval_res[1]}\")\n",
    "\n",
    "#obejrzyjmy jeszcze macierz pomyłek \n",
    "matrix_nn6 = confusion_matrix(Y_test_d.argmax(axis = 1), Y_pred_nn6)\n",
    "raport_nn6 = classification_report(Y_test_d.argmax(axis = 1), Y_pred_nn6)\n",
    "print(raport_nn6)"
   ]
  },
  {
   "cell_type": "markdown",
   "metadata": {},
   "source": [
    "# Podsumowanie "
   ]
  },
  {
   "cell_type": "markdown",
   "metadata": {},
   "source": [
    "Nasz model po zastosowanie zaawansowanej metody replikacji danych mniejszej klasy, poprzez interpolacje i dostrojenia parametrow modelu w sieci neuronowej uzyskał całkiem dobre wyniki na poziomie 88% dokladnosci\n"
   ]
  }
 ],
 "metadata": {
  "kernelspec": {
   "display_name": "Python 3",
   "language": "python",
   "name": "python3"
  },
  "language_info": {
   "codemirror_mode": {
    "name": "ipython",
    "version": 3
   },
   "file_extension": ".py",
   "mimetype": "text/x-python",
   "name": "python",
   "nbconvert_exporter": "python",
   "pygments_lexer": "ipython3",
   "version": "3.8.8"
  }
 },
 "nbformat": 4,
 "nbformat_minor": 4
}
